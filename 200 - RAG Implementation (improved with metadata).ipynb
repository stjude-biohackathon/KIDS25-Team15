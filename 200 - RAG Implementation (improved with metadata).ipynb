{
 "cells": [
  {
   "cell_type": "code",
   "execution_count": 1,
   "id": "d01fedb4-f551-407d-b32b-fbc654848710",
   "metadata": {
    "tags": []
   },
   "outputs": [
    {
     "name": "stdout",
     "output_type": "stream",
     "text": [
      "\n",
      "# conda environments:\n",
      "#\n",
      "base                   /opt/conda\n",
      "adsp-genai           * /opt/conda/envs/adsp-genai\n",
      "interview-ai           /opt/conda/envs/interview-ai\n",
      "jupyterlab             /opt/conda/envs/jupyterlab\n",
      "jupyterlab4-preview    /opt/conda/envs/jupyterlab4-preview\n",
      "pytorch                /opt/conda/envs/pytorch\n",
      "tensorflow             /opt/conda/envs/tensorflow\n",
      "\n",
      "\n",
      "Note: you may need to restart the kernel to use updated packages.\n"
     ]
    }
   ],
   "source": [
    "conda env list"
   ]
  },
  {
   "cell_type": "code",
   "execution_count": 2,
   "id": "044e65c6-5d12-457e-a4fa-141d2a9a3ca6",
   "metadata": {
    "tags": []
   },
   "outputs": [],
   "source": [
    "# source activate adsp-genai\n",
    "!source /opt/conda/bin/activate adsp-genai"
   ]
  },
  {
   "cell_type": "code",
   "execution_count": 3,
   "id": "d060db51-09e7-4b42-8401-1669ba2d64f1",
   "metadata": {
    "tags": []
   },
   "outputs": [
    {
     "name": "stdout",
     "output_type": "stream",
     "text": [
      "🔹 CONDA env: adsp-genai\n"
     ]
    }
   ],
   "source": [
    "import os\n",
    "print(\"🔹 CONDA env:\", os.environ.get(\"CONDA_DEFAULT_ENV\"))"
   ]
  },
  {
   "cell_type": "code",
   "execution_count": 4,
   "id": "74f95148-5186-48b4-a214-b179d8774cca",
   "metadata": {
    "tags": []
   },
   "outputs": [],
   "source": [
    "# !pip install --quiet --upgrade datasets langchain langchain-community langchain-chroma sentence-transformers umap-learn matplotlib scikit-learn\n",
    "# !pip install --upgrade PyMuPDF\n",
    "# !pip install huggingface_hub"
   ]
  },
  {
   "cell_type": "code",
   "execution_count": 5,
   "id": "cb55a93b-1d4b-48f1-bd7f-4146a94b2cd0",
   "metadata": {
    "tags": []
   },
   "outputs": [],
   "source": [
    "# import sys\n",
    "# print(sys.executable)"
   ]
  },
  {
   "cell_type": "code",
   "execution_count": 6,
   "id": "df2846e4-fda7-4044-a77b-fd18d2dabd63",
   "metadata": {
    "tags": []
   },
   "outputs": [],
   "source": [
    "import pandas as pd\n",
    "import requests\n",
    "from bs4 import BeautifulSoup\n",
    "import fitz  # PyMuPDF\n",
    "from datasets import load_dataset\n",
    "from langchain.text_splitter import RecursiveCharacterTextSplitter\n",
    "from langchain_chroma import Chroma\n",
    "from langchain_community.embeddings import HuggingFaceEmbeddings\n",
    "\n",
    "from sklearn.decomposition import PCA\n",
    "import matplotlib.pyplot as plt\n",
    "import torch\n",
    "from sklearn.metrics.pairwise import cosine_similarity"
   ]
  },
  {
   "cell_type": "markdown",
   "id": "6639a5e1-cbc3-4d0b-b1ed-7421e356d9c8",
   "metadata": {},
   "source": [
    "## Load Data"
   ]
  },
  {
   "cell_type": "code",
   "execution_count": 7,
   "id": "6d7bb21d-f8a8-4246-b59a-350f57aa63b7",
   "metadata": {
    "tags": []
   },
   "outputs": [],
   "source": [
    "df = pd.read_csv(\"../Data/scraped_output_metadata.csv\")"
   ]
  },
  {
   "cell_type": "code",
   "execution_count": 8,
   "id": "6fc31c00-a346-4839-8da0-837e3d0200bd",
   "metadata": {
    "tags": []
   },
   "outputs": [
    {
     "name": "stdout",
     "output_type": "stream",
     "text": [
      "<class 'pandas.core.frame.DataFrame'>\n",
      "RangeIndex: 1304 entries, 0 to 1303\n",
      "Data columns (total 3 columns):\n",
      " #   Column      Non-Null Count  Dtype \n",
      "---  ------      --------------  ----- \n",
      " 0   Unnamed: 0  1304 non-null   int64 \n",
      " 1   text        1304 non-null   object\n",
      " 2   metadata    1304 non-null   object\n",
      "dtypes: int64(1), object(2)\n",
      "memory usage: 30.7+ KB\n"
     ]
    }
   ],
   "source": [
    "df.info()"
   ]
  },
  {
   "cell_type": "code",
   "execution_count": 9,
   "id": "98fb5136-6451-4b89-8564-6fe8663a32e3",
   "metadata": {
    "tags": []
   },
   "outputs": [],
   "source": [
    "# df = df.rename(columns= {'scraped_Content': 'scraped_content'})"
   ]
  },
  {
   "cell_type": "code",
   "execution_count": 10,
   "id": "055ac22d-4d9d-4c18-b26b-89eda535d0c9",
   "metadata": {
    "tags": []
   },
   "outputs": [],
   "source": [
    "# df_filtered = df.drop(index = [4, 5, 14, 15, 24, 25])"
   ]
  },
  {
   "cell_type": "code",
   "execution_count": 11,
   "id": "a051ad48-1f5d-4fc4-970c-f7599dad7e29",
   "metadata": {
    "tags": []
   },
   "outputs": [],
   "source": [
    "# df_filtered_reset_index = df_filtered.reset_index()\n",
    "# df_filtered_reset_index = df_filtered_reset_index.drop(columns = 'index')\n",
    "# df_filtered_reset_index.info()"
   ]
  },
  {
   "cell_type": "code",
   "execution_count": 12,
   "id": "a4084de6-d573-4c38-a58a-58ab6dce4fc4",
   "metadata": {
    "tags": []
   },
   "outputs": [],
   "source": [
    "# df_filtered_reset_index.sample(2)"
   ]
  },
  {
   "cell_type": "code",
   "execution_count": 13,
   "id": "b8b8ce1b-d877-4592-87bb-8d70ea605eca",
   "metadata": {
    "tags": []
   },
   "outputs": [],
   "source": [
    "# df = df_filtered_reset_index.copy()"
   ]
  },
  {
   "cell_type": "code",
   "execution_count": 9,
   "id": "70cbc22c-cc63-47e3-9af4-b09f9d3673a2",
   "metadata": {
    "tags": []
   },
   "outputs": [],
   "source": [
    "pd.set_option(\"display.max_colwidth\", 500)"
   ]
  },
  {
   "cell_type": "code",
   "execution_count": 10,
   "id": "2c5518f2-90ca-4187-aa68-6a80fcfb8943",
   "metadata": {
    "tags": []
   },
   "outputs": [
    {
     "data": {
      "text/html": [
       "<div>\n",
       "<style scoped>\n",
       "    .dataframe tbody tr th:only-of-type {\n",
       "        vertical-align: middle;\n",
       "    }\n",
       "\n",
       "    .dataframe tbody tr th {\n",
       "        vertical-align: top;\n",
       "    }\n",
       "\n",
       "    .dataframe thead th {\n",
       "        text-align: right;\n",
       "    }\n",
       "</style>\n",
       "<table border=\"1\" class=\"dataframe\">\n",
       "  <thead>\n",
       "    <tr style=\"text-align: right;\">\n",
       "      <th></th>\n",
       "      <th>Unnamed: 0</th>\n",
       "      <th>text</th>\n",
       "      <th>metadata</th>\n",
       "    </tr>\n",
       "  </thead>\n",
       "  <tbody>\n",
       "    <tr>\n",
       "      <th>0</th>\n",
       "      <td>0</td>\n",
       "      <td>Career Seminar (Seminar, required)The Pass/Fail Career Seminar supports the development of industry professional skills, job and/or internship searches, and other in-demand areas of competency among today’s employers. Students enroll in the Career Seminar each quarter in order to engage in unique content throughout their degree program. Students with significant full-time work experience may be eligible to waive this course. 0 units, no cost.Introduction to Statistical Concepts (Foundational...</td>\n",
       "      <td>{'source_url': 'https://datascience.uchicago.edu/education/masters-programs/in-person-program/', 'retrieved_at': '2025-07-22T20:17:29.207159', 'title': 'In-Person Program – DSI', 'section': 'Noncredit Courses', 'super_section': 'Unknown Super Section'}</td>\n",
       "    </tr>\n",
       "    <tr>\n",
       "      <th>1</th>\n",
       "      <td>1</td>\n",
       "      <td>Time Series Analysis and ForecastingTime Series Analysis is a science as well as the art of making rational predictions based on previous records. It is widely used in various fields in today’s business settings.Statistical Models for Data ScienceIn a traditional linear model, the observed response follows a normal distribution, and the expected response value is a linear combination of the predictors.  Since Carl Friedrich Gauss (1777-1855) and Adrien-Marie Legendre (1752-1833) created this...</td>\n",
       "      <td>{'source_url': 'https://datascience.uchicago.edu/education/masters-programs/in-person-program/', 'retrieved_at': '2025-07-22T20:17:29.207159', 'title': 'In-Person Program – DSI', 'section': 'Core Courses', 'super_section': 'Unknown Super Section'}</td>\n",
       "    </tr>\n",
       "    <tr>\n",
       "      <th>2</th>\n",
       "      <td>2</td>\n",
       "      <td>Advanced Computer Vision with Deep LearningComputer vision is the field of computer science that focuses on creating digital systems that can process, analyze, and make sense of visual data in the same way that humans do. Deep learning is a subset of machine learning and a branch of Artificial Intelligence (AI). It involves the training, deployment, and application of large complex neural network architectures to solve cutting-edge problems. Deep Learning has become the primary approach for ...</td>\n",
       "      <td>{'source_url': 'https://datascience.uchicago.edu/education/masters-programs/in-person-program/', 'retrieved_at': '2025-07-22T20:17:29.207159', 'title': 'In-Person Program – DSI', 'section': 'Sample Elective Courses', 'super_section': 'Unknown Super Section'}</td>\n",
       "    </tr>\n",
       "    <tr>\n",
       "      <th>3</th>\n",
       "      <td>3</td>\n",
       "      <td>Take the next step to advance your career with UChicago’s MS in Applied Data Science.</td>\n",
       "      <td>{'source_url': 'https://datascience.uchicago.edu/education/masters-programs/in-person-program/', 'retrieved_at': '2025-07-22T20:17:29.207159', 'title': 'In-Person Program – DSI', 'section': 'Your Career Success', 'super_section': None}</td>\n",
       "    </tr>\n",
       "    <tr>\n",
       "      <th>4</th>\n",
       "      <td>4</td>\n",
       "      <td>The In-Person program admits full- and part-time students for entrance in Autumn quarter annually. The full-time, in-person MS in Applied Data Science program isSTEM/OPT eligible. Please visit theOnlineprogram page if you are interested in those full- and part-time options.</td>\n",
       "      <td>{'source_url': 'https://datascience.uchicago.edu/education/masters-programs/in-person-program/', 'retrieved_at': '2025-07-22T20:17:29.207159', 'title': 'In-Person Program – DSI', 'section': 'Your Career Success', 'super_section': None}</td>\n",
       "    </tr>\n",
       "  </tbody>\n",
       "</table>\n",
       "</div>"
      ],
      "text/plain": [
       "   Unnamed: 0  \\\n",
       "0           0   \n",
       "1           1   \n",
       "2           2   \n",
       "3           3   \n",
       "4           4   \n",
       "\n",
       "                                                                                                                                                                                                                                                                                                                                                                                                                                                                                                                  text  \\\n",
       "0  Career Seminar (Seminar, required)The Pass/Fail Career Seminar supports the development of industry professional skills, job and/or internship searches, and other in-demand areas of competency among today’s employers. Students enroll in the Career Seminar each quarter in order to engage in unique content throughout their degree program. Students with significant full-time work experience may be eligible to waive this course. 0 units, no cost.Introduction to Statistical Concepts (Foundational...   \n",
       "1  Time Series Analysis and ForecastingTime Series Analysis is a science as well as the art of making rational predictions based on previous records. It is widely used in various fields in today’s business settings.Statistical Models for Data ScienceIn a traditional linear model, the observed response follows a normal distribution, and the expected response value is a linear combination of the predictors.  Since Carl Friedrich Gauss (1777-1855) and Adrien-Marie Legendre (1752-1833) created this...   \n",
       "2  Advanced Computer Vision with Deep LearningComputer vision is the field of computer science that focuses on creating digital systems that can process, analyze, and make sense of visual data in the same way that humans do. Deep learning is a subset of machine learning and a branch of Artificial Intelligence (AI). It involves the training, deployment, and application of large complex neural network architectures to solve cutting-edge problems. Deep Learning has become the primary approach for ...   \n",
       "3                                                                                                                                                                                                                                                                                                                                                                                                                                Take the next step to advance your career with UChicago’s MS in Applied Data Science.   \n",
       "4                                                                                                                                                                                                                                   The In-Person program admits full- and part-time students for entrance in Autumn quarter annually. The full-time, in-person MS in Applied Data Science program isSTEM/OPT eligible. Please visit theOnlineprogram page if you are interested in those full- and part-time options.   \n",
       "\n",
       "                                                                                                                                                                                                                                                             metadata  \n",
       "0        {'source_url': 'https://datascience.uchicago.edu/education/masters-programs/in-person-program/', 'retrieved_at': '2025-07-22T20:17:29.207159', 'title': 'In-Person Program – DSI', 'section': 'Noncredit Courses', 'super_section': 'Unknown Super Section'}  \n",
       "1             {'source_url': 'https://datascience.uchicago.edu/education/masters-programs/in-person-program/', 'retrieved_at': '2025-07-22T20:17:29.207159', 'title': 'In-Person Program – DSI', 'section': 'Core Courses', 'super_section': 'Unknown Super Section'}  \n",
       "2  {'source_url': 'https://datascience.uchicago.edu/education/masters-programs/in-person-program/', 'retrieved_at': '2025-07-22T20:17:29.207159', 'title': 'In-Person Program – DSI', 'section': 'Sample Elective Courses', 'super_section': 'Unknown Super Section'}  \n",
       "3                         {'source_url': 'https://datascience.uchicago.edu/education/masters-programs/in-person-program/', 'retrieved_at': '2025-07-22T20:17:29.207159', 'title': 'In-Person Program – DSI', 'section': 'Your Career Success', 'super_section': None}  \n",
       "4                         {'source_url': 'https://datascience.uchicago.edu/education/masters-programs/in-person-program/', 'retrieved_at': '2025-07-22T20:17:29.207159', 'title': 'In-Person Program – DSI', 'section': 'Your Career Success', 'super_section': None}  "
      ]
     },
     "execution_count": 10,
     "metadata": {},
     "output_type": "execute_result"
    }
   ],
   "source": [
    "df.head()"
   ]
  },
  {
   "cell_type": "code",
   "execution_count": 11,
   "id": "63b358a7-40e8-4583-a9a2-09ad09f321ba",
   "metadata": {
    "tags": []
   },
   "outputs": [
    {
     "name": "stdout",
     "output_type": "stream",
     "text": [
      "<class 'pandas.core.frame.DataFrame'>\n",
      "RangeIndex: 1304 entries, 0 to 1303\n",
      "Data columns (total 3 columns):\n",
      " #   Column      Non-Null Count  Dtype \n",
      "---  ------      --------------  ----- \n",
      " 0   Unnamed: 0  1304 non-null   int64 \n",
      " 1   text        1304 non-null   object\n",
      " 2   metadata    1304 non-null   object\n",
      "dtypes: int64(1), object(2)\n",
      "memory usage: 30.7+ KB\n"
     ]
    }
   ],
   "source": [
    "df.info()"
   ]
  },
  {
   "cell_type": "code",
   "execution_count": 12,
   "id": "bdeefcd9-d2ef-49eb-9b95-f1d33501dc40",
   "metadata": {
    "tags": []
   },
   "outputs": [],
   "source": [
    "import ast\n",
    "\n",
    "df['metadata'] = df['metadata'].apply(\n",
    "    lambda x: ast.literal_eval(x) if isinstance(x, str) else x\n",
    ")"
   ]
  },
  {
   "cell_type": "code",
   "execution_count": 13,
   "id": "107f7aa9-4a00-48e7-91cd-038a6c0bc059",
   "metadata": {
    "tags": []
   },
   "outputs": [
    {
     "name": "stdout",
     "output_type": "stream",
     "text": [
      "<class 'pandas.core.frame.DataFrame'>\n",
      "RangeIndex: 1304 entries, 0 to 1303\n",
      "Data columns (total 3 columns):\n",
      " #   Column      Non-Null Count  Dtype \n",
      "---  ------      --------------  ----- \n",
      " 0   Unnamed: 0  1304 non-null   int64 \n",
      " 1   text        1304 non-null   object\n",
      " 2   metadata    1304 non-null   object\n",
      "dtypes: int64(1), object(2)\n",
      "memory usage: 30.7+ KB\n"
     ]
    }
   ],
   "source": [
    "df.info()"
   ]
  },
  {
   "cell_type": "markdown",
   "id": "5d4f752c-ac90-4715-a50f-20fdf8e87ac2",
   "metadata": {},
   "source": [
    "## Document Indexing"
   ]
  },
  {
   "cell_type": "markdown",
   "id": "b4ae21be-ff7b-4f6a-b42b-b36eacb3e8f6",
   "metadata": {},
   "source": [
    "### Chunking"
   ]
  },
  {
   "cell_type": "code",
   "execution_count": 14,
   "id": "9189ac2c-b67e-4a16-bfde-ff00af5c09c2",
   "metadata": {
    "tags": []
   },
   "outputs": [],
   "source": [
    "from langchain.text_splitter import RecursiveCharacterTextSplitter\n",
    "from typing import Iterable, List\n",
    "\n",
    "def chunk_text(\n",
    "    text: str,\n",
    "    chunk_size: int = 800,\n",
    "    chunk_overlap: int = 80\n",
    ") -> List[str]:\n",
    "    splitter = RecursiveCharacterTextSplitter(\n",
    "        chunk_size=chunk_size,\n",
    "        chunk_overlap=chunk_overlap,\n",
    "        separators=[\"\\n\\n\", \"\\n\", \".\", \" \"]\n",
    "    )\n",
    "    return splitter.split_text(text)\n",
    "\n",
    "def build_chunks_dataframe(\n",
    "    df: pd.DataFrame,\n",
    "    chunk_size: int = 800,\n",
    "    chunk_overlap: int = 80\n",
    ") -> pd.DataFrame:\n",
    "    \n",
    "    records = []\n",
    "\n",
    "    for source_idx, row in df.iterrows():\n",
    "        seg_text = row['text']\n",
    "        seg_metadata = row['metadata']\n",
    "\n",
    "        seg_chunks = chunk_text(seg_text, chunk_size, chunk_overlap)\n",
    "        \n",
    "        for chunk_idx, chunk in enumerate(seg_chunks):\n",
    "            meta = seg_metadata.copy()\n",
    "            meta['source_idx'] = source_idx\n",
    "            meta['chunk_idx'] = chunk_idx\n",
    "            \n",
    "            records.append({'chunk_text': chunk,\n",
    "                            'metadata': meta})\n",
    "\n",
    "    return pd.DataFrame(records)"
   ]
  },
  {
   "cell_type": "code",
   "execution_count": 15,
   "id": "a1cad221-0225-4616-989d-abb9b451df01",
   "metadata": {
    "tags": []
   },
   "outputs": [],
   "source": [
    "df_chunks = build_chunks_dataframe(df)"
   ]
  },
  {
   "cell_type": "code",
   "execution_count": 16,
   "id": "eb85a013-b03f-494e-9b0a-91af70e32c75",
   "metadata": {
    "tags": []
   },
   "outputs": [
    {
     "data": {
      "text/html": [
       "<div>\n",
       "<style scoped>\n",
       "    .dataframe tbody tr th:only-of-type {\n",
       "        vertical-align: middle;\n",
       "    }\n",
       "\n",
       "    .dataframe tbody tr th {\n",
       "        vertical-align: top;\n",
       "    }\n",
       "\n",
       "    .dataframe thead th {\n",
       "        text-align: right;\n",
       "    }\n",
       "</style>\n",
       "<table border=\"1\" class=\"dataframe\">\n",
       "  <thead>\n",
       "    <tr style=\"text-align: right;\">\n",
       "      <th></th>\n",
       "      <th>chunk_text</th>\n",
       "      <th>metadata</th>\n",
       "    </tr>\n",
       "  </thead>\n",
       "  <tbody>\n",
       "    <tr>\n",
       "      <th>0</th>\n",
       "      <td>Career Seminar (Seminar, required)The Pass/Fail Career Seminar supports the development of industry professional skills, job and/or internship searches, and other in-demand areas of competency among today’s employers. Students enroll in the Career Seminar each quarter in order to engage in unique content throughout their degree program. Students with significant full-time work experience may be eligible to waive this course. 0 units, no cost.Introduction to Statistical Concepts (Foundational...</td>\n",
       "      <td>{'source_url': 'https://datascience.uchicago.edu/education/masters-programs/in-person-program/', 'retrieved_at': '2025-07-22T20:17:29.207159', 'title': 'In-Person Program – DSI', 'section': 'Noncredit Courses', 'super_section': 'Unknown Super Section', 'source_idx': 0, 'chunk_idx': 0}</td>\n",
       "    </tr>\n",
       "    <tr>\n",
       "      <th>1</th>\n",
       "      <td>. 0 units, no cost.R for Data Science (Foundational, optional)This course is held the five weeks leading up to the start of your first quarter and is an introduction to the essential concepts and techniques for the statistical computing language R. 0 units, no cost.Python for Data Science (Foundational, optional)This course is held concurrently with the first five weeks of your first quarter in the program and starts with an introduction to the Python programming language basic syntax and en...</td>\n",
       "      <td>{'source_url': 'https://datascience.uchicago.edu/education/masters-programs/in-person-program/', 'retrieved_at': '2025-07-22T20:17:29.207159', 'title': 'In-Person Program – DSI', 'section': 'Noncredit Courses', 'super_section': 'Unknown Super Section', 'source_idx': 0, 'chunk_idx': 1}</td>\n",
       "    </tr>\n",
       "    <tr>\n",
       "      <th>2</th>\n",
       "      <td>. 0 units, no cost.Brush up on the Basics (Optional resource)If you would like to gauge your preparation in Foundational course topics, we recommend specific Coursera courses that cover very similar topics.If you would like to gauge your preparation in Foundational course topics, we recommend specific Coursera courses that cover very similar topics.Four Coursera courses cover very similar topics. You can review the Coursera curricula to see if you are already well-prepared, or if you like, s...</td>\n",
       "      <td>{'source_url': 'https://datascience.uchicago.edu/education/masters-programs/in-person-program/', 'retrieved_at': '2025-07-22T20:17:29.207159', 'title': 'In-Person Program – DSI', 'section': 'Noncredit Courses', 'super_section': 'Unknown Super Section', 'source_idx': 0, 'chunk_idx': 2}</td>\n",
       "    </tr>\n",
       "    <tr>\n",
       "      <th>3</th>\n",
       "      <td>.Mathematics for Machine Learning: Linear Algebra (offered by University College London)Basis Data Descriptors, Statistical Distributions, and Application to Business Decisions (offered by Rice University)Python for Data Science, AI, &amp; Development (offered by IBM)Data Analysis with R Programming (offered by Google)</td>\n",
       "      <td>{'source_url': 'https://datascience.uchicago.edu/education/masters-programs/in-person-program/', 'retrieved_at': '2025-07-22T20:17:29.207159', 'title': 'In-Person Program – DSI', 'section': 'Noncredit Courses', 'super_section': 'Unknown Super Section', 'source_idx': 0, 'chunk_idx': 3}</td>\n",
       "    </tr>\n",
       "    <tr>\n",
       "      <th>4</th>\n",
       "      <td>Time Series Analysis and ForecastingTime Series Analysis is a science as well as the art of making rational predictions based on previous records. It is widely used in various fields in today’s business settings.Statistical Models for Data ScienceIn a traditional linear model, the observed response follows a normal distribution, and the expected response value is a linear combination of the predictors.  Since Carl Friedrich Gauss (1777-1855) and Adrien-Marie Legendre (1752-1833) created this...</td>\n",
       "      <td>{'source_url': 'https://datascience.uchicago.edu/education/masters-programs/in-person-program/', 'retrieved_at': '2025-07-22T20:17:29.207159', 'title': 'In-Person Program – DSI', 'section': 'Core Courses', 'super_section': 'Unknown Super Section', 'source_idx': 1, 'chunk_idx': 0}</td>\n",
       "    </tr>\n",
       "    <tr>\n",
       "      <th>...</th>\n",
       "      <td>...</td>\n",
       "      <td>...</td>\n",
       "    </tr>\n",
       "    <tr>\n",
       "      <th>1519</th>\n",
       "      <td>An MBA from Booth is a significant investment in yourself, your intellect, your relationships, and your future. Here's how to finance it.</td>\n",
       "      <td>{'source_url': 'https://www.chicagobooth.edu/mba/full-time/admissions/cost', 'retrieved_at': '2025-07-22T20:17:38.561681', 'title': 'Full-Time MBA Cost | The University of Chicago Booth School of Business', 'section': 'Explore Scholarships and Financial Aid', 'super_section': 'Full-Time MBA Cost', 'source_idx': 1299, 'chunk_idx': 0}</td>\n",
       "    </tr>\n",
       "    <tr>\n",
       "      <th>1520</th>\n",
       "      <td>The first step in joining our transformational Full-Time MBA Program is to apply for admission.</td>\n",
       "      <td>{'source_url': 'https://www.chicagobooth.edu/mba/full-time/admissions/cost', 'retrieved_at': '2025-07-22T20:17:38.561681', 'title': 'Full-Time MBA Cost | The University of Chicago Booth School of Business', 'section': 'Begin Your MBA Journey', 'super_section': 'Full-Time MBA Cost', 'source_idx': 1300, 'chunk_idx': 0}</td>\n",
       "    </tr>\n",
       "    <tr>\n",
       "      <th>1521</th>\n",
       "      <td>Start Your Application</td>\n",
       "      <td>{'source_url': 'https://www.chicagobooth.edu/mba/full-time/admissions/cost', 'retrieved_at': '2025-07-22T20:17:38.561681', 'title': 'Full-Time MBA Cost | The University of Chicago Booth School of Business', 'section': 'Begin Your MBA Journey', 'super_section': 'Full-Time MBA Cost', 'source_idx': 1301, 'chunk_idx': 0}</td>\n",
       "    </tr>\n",
       "    <tr>\n",
       "      <th>1522</th>\n",
       "      <td>Do you have questions about the Full-Time MBA Program cost and financial aid? Contact us. We look forward to hearing from you!</td>\n",
       "      <td>{'source_url': 'https://www.chicagobooth.edu/mba/full-time/admissions/cost', 'retrieved_at': '2025-07-22T20:17:38.561681', 'title': 'Full-Time MBA Cost | The University of Chicago Booth School of Business', 'section': 'Contact Us', 'super_section': 'Full-Time MBA Cost', 'source_idx': 1302, 'chunk_idx': 0}</td>\n",
       "    </tr>\n",
       "    <tr>\n",
       "      <th>1523</th>\n",
       "      <td>Financial AidEmail Us</td>\n",
       "      <td>{'source_url': 'https://www.chicagobooth.edu/mba/full-time/admissions/cost', 'retrieved_at': '2025-07-22T20:17:38.561681', 'title': 'Full-Time MBA Cost | The University of Chicago Booth School of Business', 'section': 'Contact Us', 'super_section': 'Full-Time MBA Cost', 'source_idx': 1303, 'chunk_idx': 0}</td>\n",
       "    </tr>\n",
       "  </tbody>\n",
       "</table>\n",
       "<p>1524 rows × 2 columns</p>\n",
       "</div>"
      ],
      "text/plain": [
       "                                                                                                                                                                                                                                                                                                                                                                                                                                                                                                               chunk_text  \\\n",
       "0     Career Seminar (Seminar, required)The Pass/Fail Career Seminar supports the development of industry professional skills, job and/or internship searches, and other in-demand areas of competency among today’s employers. Students enroll in the Career Seminar each quarter in order to engage in unique content throughout their degree program. Students with significant full-time work experience may be eligible to waive this course. 0 units, no cost.Introduction to Statistical Concepts (Foundational...   \n",
       "1     . 0 units, no cost.R for Data Science (Foundational, optional)This course is held the five weeks leading up to the start of your first quarter and is an introduction to the essential concepts and techniques for the statistical computing language R. 0 units, no cost.Python for Data Science (Foundational, optional)This course is held concurrently with the first five weeks of your first quarter in the program and starts with an introduction to the Python programming language basic syntax and en...   \n",
       "2     . 0 units, no cost.Brush up on the Basics (Optional resource)If you would like to gauge your preparation in Foundational course topics, we recommend specific Coursera courses that cover very similar topics.If you would like to gauge your preparation in Foundational course topics, we recommend specific Coursera courses that cover very similar topics.Four Coursera courses cover very similar topics. You can review the Coursera curricula to see if you are already well-prepared, or if you like, s...   \n",
       "3                                                                                                                                                                                            .Mathematics for Machine Learning: Linear Algebra (offered by University College London)Basis Data Descriptors, Statistical Distributions, and Application to Business Decisions (offered by Rice University)Python for Data Science, AI, & Development (offered by IBM)Data Analysis with R Programming (offered by Google)   \n",
       "4     Time Series Analysis and ForecastingTime Series Analysis is a science as well as the art of making rational predictions based on previous records. It is widely used in various fields in today’s business settings.Statistical Models for Data ScienceIn a traditional linear model, the observed response follows a normal distribution, and the expected response value is a linear combination of the predictors.  Since Carl Friedrich Gauss (1777-1855) and Adrien-Marie Legendre (1752-1833) created this...   \n",
       "...                                                                                                                                                                                                                                                                                                                                                                                                                                                                                                                   ...   \n",
       "1519                                                                                                                                                                                                                                                                                                                                                                            An MBA from Booth is a significant investment in yourself, your intellect, your relationships, and your future. Here's how to finance it.   \n",
       "1520                                                                                                                                                                                                                                                                                                                                                                                                                      The first step in joining our transformational Full-Time MBA Program is to apply for admission.   \n",
       "1521                                                                                                                                                                                                                                                                                                                                                                                                                                                                                               Start Your Application   \n",
       "1522                                                                                                                                                                                                                                                                                                                                                                                       Do you have questions about the Full-Time MBA Program cost and financial aid? Contact us. We look forward to hearing from you!   \n",
       "1523                                                                                                                                                                                                                                                                                                                                                                                                                                                                                                Financial AidEmail Us   \n",
       "\n",
       "                                                                                                                                                                                                                                                                                                                                            metadata  \n",
       "0                                                      {'source_url': 'https://datascience.uchicago.edu/education/masters-programs/in-person-program/', 'retrieved_at': '2025-07-22T20:17:29.207159', 'title': 'In-Person Program – DSI', 'section': 'Noncredit Courses', 'super_section': 'Unknown Super Section', 'source_idx': 0, 'chunk_idx': 0}  \n",
       "1                                                      {'source_url': 'https://datascience.uchicago.edu/education/masters-programs/in-person-program/', 'retrieved_at': '2025-07-22T20:17:29.207159', 'title': 'In-Person Program – DSI', 'section': 'Noncredit Courses', 'super_section': 'Unknown Super Section', 'source_idx': 0, 'chunk_idx': 1}  \n",
       "2                                                      {'source_url': 'https://datascience.uchicago.edu/education/masters-programs/in-person-program/', 'retrieved_at': '2025-07-22T20:17:29.207159', 'title': 'In-Person Program – DSI', 'section': 'Noncredit Courses', 'super_section': 'Unknown Super Section', 'source_idx': 0, 'chunk_idx': 2}  \n",
       "3                                                      {'source_url': 'https://datascience.uchicago.edu/education/masters-programs/in-person-program/', 'retrieved_at': '2025-07-22T20:17:29.207159', 'title': 'In-Person Program – DSI', 'section': 'Noncredit Courses', 'super_section': 'Unknown Super Section', 'source_idx': 0, 'chunk_idx': 3}  \n",
       "4                                                           {'source_url': 'https://datascience.uchicago.edu/education/masters-programs/in-person-program/', 'retrieved_at': '2025-07-22T20:17:29.207159', 'title': 'In-Person Program – DSI', 'section': 'Core Courses', 'super_section': 'Unknown Super Section', 'source_idx': 1, 'chunk_idx': 0}  \n",
       "...                                                                                                                                                                                                                                                                                                                                              ...  \n",
       "1519  {'source_url': 'https://www.chicagobooth.edu/mba/full-time/admissions/cost', 'retrieved_at': '2025-07-22T20:17:38.561681', 'title': 'Full-Time MBA Cost | The University of Chicago Booth School of Business', 'section': 'Explore Scholarships and Financial Aid', 'super_section': 'Full-Time MBA Cost', 'source_idx': 1299, 'chunk_idx': 0}  \n",
       "1520                  {'source_url': 'https://www.chicagobooth.edu/mba/full-time/admissions/cost', 'retrieved_at': '2025-07-22T20:17:38.561681', 'title': 'Full-Time MBA Cost | The University of Chicago Booth School of Business', 'section': 'Begin Your MBA Journey', 'super_section': 'Full-Time MBA Cost', 'source_idx': 1300, 'chunk_idx': 0}  \n",
       "1521                  {'source_url': 'https://www.chicagobooth.edu/mba/full-time/admissions/cost', 'retrieved_at': '2025-07-22T20:17:38.561681', 'title': 'Full-Time MBA Cost | The University of Chicago Booth School of Business', 'section': 'Begin Your MBA Journey', 'super_section': 'Full-Time MBA Cost', 'source_idx': 1301, 'chunk_idx': 0}  \n",
       "1522                              {'source_url': 'https://www.chicagobooth.edu/mba/full-time/admissions/cost', 'retrieved_at': '2025-07-22T20:17:38.561681', 'title': 'Full-Time MBA Cost | The University of Chicago Booth School of Business', 'section': 'Contact Us', 'super_section': 'Full-Time MBA Cost', 'source_idx': 1302, 'chunk_idx': 0}  \n",
       "1523                              {'source_url': 'https://www.chicagobooth.edu/mba/full-time/admissions/cost', 'retrieved_at': '2025-07-22T20:17:38.561681', 'title': 'Full-Time MBA Cost | The University of Chicago Booth School of Business', 'section': 'Contact Us', 'super_section': 'Full-Time MBA Cost', 'source_idx': 1303, 'chunk_idx': 0}  \n",
       "\n",
       "[1524 rows x 2 columns]"
      ]
     },
     "execution_count": 16,
     "metadata": {},
     "output_type": "execute_result"
    }
   ],
   "source": [
    "df_chunks"
   ]
  },
  {
   "cell_type": "code",
   "execution_count": 17,
   "id": "2274b3ce-928e-4d8a-827b-4821bd506c4f",
   "metadata": {
    "tags": []
   },
   "outputs": [],
   "source": [
    "# df['chunk_text'] = df['scraped_content'].apply(lambda x: chunk_text(x, chunk_size = 800, chunk_overlap = 80))"
   ]
  },
  {
   "cell_type": "code",
   "execution_count": 18,
   "id": "21039ead-23bf-4618-bfdc-a758f756f05d",
   "metadata": {
    "tags": []
   },
   "outputs": [],
   "source": [
    "# df_chunks['chunk_count'] = df_chunks['chunk_text'].apply(len)"
   ]
  },
  {
   "cell_type": "code",
   "execution_count": 19,
   "id": "ce05c354-f888-4746-824c-510575a21e3d",
   "metadata": {
    "tags": []
   },
   "outputs": [],
   "source": [
    "# from itertools import chain\n",
    "\n",
    "# all_chunks = list(chain.from_iterable(df_chunks['chunk_text']))\n",
    "\n",
    "# total_chunks = len(all_chunks)\n",
    "# total_doc = len(df_chunks)\n",
    "# print(f\"Total Chunk Texts: {total_chunks}\")\n",
    "# print(f\"Average Chunk per Document: {(total_chunks / total_doc):.2f}\")"
   ]
  },
  {
   "cell_type": "code",
   "execution_count": 20,
   "id": "71b312ee-206a-48b2-99ae-54074bc7437f",
   "metadata": {
    "tags": []
   },
   "outputs": [],
   "source": [
    "all_chunks = df_chunks['chunk_text'].tolist()\n",
    "all_metas = df_chunks['metadata'].tolist()"
   ]
  },
  {
   "cell_type": "code",
   "execution_count": 21,
   "id": "f3d02f7f-5a16-40f6-b9c0-313b7e2319f2",
   "metadata": {
    "tags": []
   },
   "outputs": [
    {
     "data": {
      "text/plain": [
       "1524"
      ]
     },
     "execution_count": 21,
     "metadata": {},
     "output_type": "execute_result"
    }
   ],
   "source": [
    "len(all_chunks)"
   ]
  },
  {
   "cell_type": "code",
   "execution_count": 22,
   "id": "22a53ade-10ef-4ca5-9320-c143a9b97d49",
   "metadata": {
    "tags": []
   },
   "outputs": [
    {
     "data": {
      "text/plain": [
       "['Career Seminar (Seminar, required)The Pass/Fail Career Seminar supports the development of industry professional skills, job and/or internship searches, and other in-demand areas of competency among today’s employers. Students enroll in the Career Seminar each quarter in order to engage in unique content throughout their degree program. Students with significant full-time work experience may be eligible to waive this course. 0 units, no cost.Introduction to Statistical Concepts (Foundational, optional)This course is held in the five weeks leading up to the start of your first quarter and provides general exposure to basic statistical concepts necessary for success in advanced courses in the program. 0 units, no cost',\n",
       " '. 0 units, no cost.R for Data Science (Foundational, optional)This course is held the five weeks leading up to the start of your first quarter and is an introduction to the essential concepts and techniques for the statistical computing language R. 0 units, no cost.Python for Data Science (Foundational, optional)This course is held concurrently with the first five weeks of your first quarter in the program and starts with an introduction to the Python programming language basic syntax and environment. 0 units, no cost.Advanced Linear Algebra for Machine Learning (Foundational, optional)This course is held concurrently with the second five weeks of your first quarter in the program and is focused on the theoretical concepts and real-life applications of linear algebra for machine learning',\n",
       " '. 0 units, no cost.Brush up on the Basics (Optional resource)If you would like to gauge your preparation in Foundational course topics, we recommend specific Coursera courses that cover very similar topics.If you would like to gauge your preparation in Foundational course topics, we recommend specific Coursera courses that cover very similar topics.Four Coursera courses cover very similar topics. You can review the Coursera curricula to see if you are already well-prepared, or if you like, study their materials to brush up on some or all of these topics',\n",
       " '.Mathematics for Machine Learning: Linear Algebra (offered by University College London)Basis Data Descriptors, Statistical Distributions, and Application to Business Decisions (offered by Rice University)Python for Data Science, AI, & Development (offered by IBM)Data Analysis with R Programming (offered by Google)',\n",
       " 'Time Series Analysis and ForecastingTime Series Analysis is a science as well as the art of making rational predictions based on previous records. It is widely used in various fields in today’s business settings.Statistical Models for Data ScienceIn a traditional linear model, the observed response follows a normal distribution, and the expected response value is a linear combination of the predictors.\\xa0 Since Carl Friedrich Gauss (1777-1855) and Adrien-Marie Legendre (1752-1833) created this linear model framework in the early 1800s, the “Linear Normal” assumption has been the norm in statistics/data science for almost two centuries.\\xa0 New methods based on probability distributions other than Gaussian appeared only in the second half of the twentieth century']"
      ]
     },
     "execution_count": 22,
     "metadata": {},
     "output_type": "execute_result"
    }
   ],
   "source": [
    "all_chunks[:5]"
   ]
  },
  {
   "cell_type": "code",
   "execution_count": 23,
   "id": "b4a5c1f8-2631-45f4-8b95-c6bba80d60d9",
   "metadata": {
    "tags": []
   },
   "outputs": [
    {
     "data": {
      "text/plain": [
       "[{'source_url': 'https://datascience.uchicago.edu/education/masters-programs/in-person-program/',\n",
       "  'retrieved_at': '2025-07-22T20:17:29.207159',\n",
       "  'title': 'In-Person Program – DSI',\n",
       "  'section': 'Noncredit Courses',\n",
       "  'super_section': 'Unknown Super Section',\n",
       "  'source_idx': 0,\n",
       "  'chunk_idx': 0},\n",
       " {'source_url': 'https://datascience.uchicago.edu/education/masters-programs/in-person-program/',\n",
       "  'retrieved_at': '2025-07-22T20:17:29.207159',\n",
       "  'title': 'In-Person Program – DSI',\n",
       "  'section': 'Noncredit Courses',\n",
       "  'super_section': 'Unknown Super Section',\n",
       "  'source_idx': 0,\n",
       "  'chunk_idx': 1},\n",
       " {'source_url': 'https://datascience.uchicago.edu/education/masters-programs/in-person-program/',\n",
       "  'retrieved_at': '2025-07-22T20:17:29.207159',\n",
       "  'title': 'In-Person Program – DSI',\n",
       "  'section': 'Noncredit Courses',\n",
       "  'super_section': 'Unknown Super Section',\n",
       "  'source_idx': 0,\n",
       "  'chunk_idx': 2},\n",
       " {'source_url': 'https://datascience.uchicago.edu/education/masters-programs/in-person-program/',\n",
       "  'retrieved_at': '2025-07-22T20:17:29.207159',\n",
       "  'title': 'In-Person Program – DSI',\n",
       "  'section': 'Noncredit Courses',\n",
       "  'super_section': 'Unknown Super Section',\n",
       "  'source_idx': 0,\n",
       "  'chunk_idx': 3},\n",
       " {'source_url': 'https://datascience.uchicago.edu/education/masters-programs/in-person-program/',\n",
       "  'retrieved_at': '2025-07-22T20:17:29.207159',\n",
       "  'title': 'In-Person Program – DSI',\n",
       "  'section': 'Core Courses',\n",
       "  'super_section': 'Unknown Super Section',\n",
       "  'source_idx': 1,\n",
       "  'chunk_idx': 0}]"
      ]
     },
     "execution_count": 23,
     "metadata": {},
     "output_type": "execute_result"
    }
   ],
   "source": [
    "all_metas[:5]"
   ]
  },
  {
   "cell_type": "markdown",
   "id": "726c4f6e-dd68-4b29-8cf6-f7bf6fe85f34",
   "metadata": {},
   "source": [
    "### Embedding"
   ]
  },
  {
   "cell_type": "code",
   "execution_count": 24,
   "id": "c4cf3eed-c5e0-40dc-9b98-9a91693e9688",
   "metadata": {
    "tags": []
   },
   "outputs": [
    {
     "name": "stdout",
     "output_type": "stream",
     "text": [
      "Setting device to 'cuda'\n"
     ]
    }
   ],
   "source": [
    "if torch.cuda.is_available():\n",
    "    device = \"cuda\"\n",
    "else:\n",
    "    device = \"cpu\"\n",
    "\n",
    "print(f\"Setting device to '{device}'\")"
   ]
  },
  {
   "cell_type": "code",
   "execution_count": 25,
   "id": "7651844d-4b82-4162-9c3a-ab93c997dcc9",
   "metadata": {
    "tags": []
   },
   "outputs": [],
   "source": [
    "from typing import List\n",
    "# Use a pre-trained Sentence-BERT model to convert each chunk into a semantic vector\n",
    "# embedder = HuggingFaceEmbeddings(model_name=\"sentence-transformers/all-MiniLM-L6-v2\")\n",
    "# embedder = HuggingFaceEmbeddings(model_name=\"thenlper/gte-small\")\n",
    "\n",
    "def embed_chunk_docs(chunk_docs: List[str],\n",
    "                     model_name: str = \"sentence-transformers/all-MiniLM-L6-v2\",\n",
    "                     normalize: bool = True):\n",
    "    \"\"\"\n",
    "    Embed chunks of documents based on a given model name.\n",
    "    \"\"\"\n",
    "    \n",
    "    embedder = HuggingFaceEmbeddings(\n",
    "    model_name= model_name,\n",
    "    encode_kwargs={\"normalize_embeddings\": normalize})\n",
    "    \n",
    "    embeddings = embedder.embed_documents(chunk_docs)\n",
    "    \n",
    "    return embedder, embeddings"
   ]
  },
  {
   "cell_type": "code",
   "execution_count": 45,
   "id": "2f97eaef-6c86-47a8-aca1-b349528841bf",
   "metadata": {
    "tags": []
   },
   "outputs": [],
   "source": [
    "# embedder, embeddings = embed_chunk_docs(all_chunks, \"intfloat/e5-large-v2\", True)\n",
    "# embedder, embeddings = embed_chunk_docs(all_chunks, \"sentence-transformers/all-MiniLM-L6-v2\", True)\n",
    "embedder, embeddings = embed_chunk_docs(all_chunks, \"sentence-transformers/paraphrase-MiniLM-L6-v2\", True)"
   ]
  },
  {
   "cell_type": "code",
   "execution_count": 46,
   "id": "29abff46-82df-4b12-af00-1843f1ca38be",
   "metadata": {
    "tags": []
   },
   "outputs": [
    {
     "data": {
      "text/plain": [
       "1524"
      ]
     },
     "execution_count": 46,
     "metadata": {},
     "output_type": "execute_result"
    }
   ],
   "source": [
    "len(embeddings)"
   ]
  },
  {
   "cell_type": "code",
   "execution_count": 47,
   "id": "3d6fa1c6-1c17-4cb1-87fd-73ba83283f9c",
   "metadata": {
    "tags": []
   },
   "outputs": [
    {
     "data": {
      "text/plain": [
       "384"
      ]
     },
     "execution_count": 47,
     "metadata": {},
     "output_type": "execute_result"
    }
   ],
   "source": [
    "len(embeddings[0])"
   ]
  },
  {
   "cell_type": "markdown",
   "id": "a7a30c3d-9211-429e-bc50-1afea7d099f2",
   "metadata": {},
   "source": [
    "### Store Embeddings in Chroma DB"
   ]
  },
  {
   "cell_type": "code",
   "execution_count": 34,
   "id": "7b66f706-627d-4202-962f-6e716534a525",
   "metadata": {
    "tags": []
   },
   "outputs": [],
   "source": [
    "# !rm -rf ./chroma_scifact"
   ]
  },
  {
   "cell_type": "code",
   "execution_count": 48,
   "id": "2117fd4d-a812-47f3-896a-ea296c761519",
   "metadata": {
    "tags": []
   },
   "outputs": [],
   "source": [
    "from langchain_chroma import Chroma\n",
    "# from langchain.vectorstores import Chroma\n",
    "from langchain.embeddings.base import Embeddings\n",
    "import time\n",
    "from pathlib import Path\n",
    "from typing import Optional, Union\n",
    "\n",
    "\n",
    "def store_embed_in_db(texts: List[str],\n",
    "    metas: List[dict],\n",
    "    embedder: Optional[Embeddings] = None,\n",
    "    persist_directory: Optional[Union[str, Path]] = None\n",
    ") -> Chroma:\n",
    "    \"\"\"\n",
    "    Store text chunks (and their embeddings) in a Chroma vector database.\n",
    "\n",
    "    You must provide *either* `embeddings` (precomputed) *or* an `embedder` \n",
    "    (model that implements .embed_documents).\n",
    "\n",
    "    Args:\n",
    "        texts: List of text chunks to index.\n",
    "        embedder: Optional Embeddings object; used to compute embeddings on the fly.\n",
    "        persist_directory: Directory where the Chroma DB will be saved. \n",
    "            If None, a timestamped folder will be created.\n",
    "\n",
    "    Returns:\n",
    "        A Chroma vector store instance with your texts indexed.\n",
    "    \"\"\"\n",
    "        \n",
    "    if embedder is None:\n",
    "        raise ValueError(\"You must supply an `embedder`\")\n",
    "        \n",
    "    if persist_directory is None:\n",
    "        ts = int(time.time())\n",
    "        persist_directory = Path(f\"./chroma_scifact_run_{ts}\")\n",
    "    persist_directory = Path(persist_directory)\n",
    "    \n",
    "    all_metas = df_chunks['metadata'].tolist()\n",
    "    \n",
    "    \n",
    "    db = Chroma.from_texts(\n",
    "        texts=texts,\n",
    "        embedding=embedder,\n",
    "        metadatas = metas,\n",
    "        persist_directory=str(persist_directory)\n",
    "    )\n",
    "        \n",
    "    print(\"Chunks successfully stored in Chroma vector DB.\")\n",
    "    \n",
    "    return db"
   ]
  },
  {
   "cell_type": "code",
   "execution_count": 49,
   "id": "2332327b-ce87-40ff-8163-03853a09d739",
   "metadata": {
    "tags": []
   },
   "outputs": [
    {
     "name": "stdout",
     "output_type": "stream",
     "text": [
      "Chunks successfully stored in Chroma vector DB.\n"
     ]
    }
   ],
   "source": [
    "db = store_embed_in_db(all_chunks, all_metas, embedder = embedder)"
   ]
  },
  {
   "cell_type": "code",
   "execution_count": 50,
   "id": "26adeb28-9949-47a2-a75e-667f62c52674",
   "metadata": {
    "tags": []
   },
   "outputs": [],
   "source": [
    "col = db._collection  # the underlying chromadb Collection\n",
    "data = col.get() "
   ]
  },
  {
   "cell_type": "code",
   "execution_count": 51,
   "id": "cb8b90f7-8e37-4efa-9487-09c8f88d7c72",
   "metadata": {
    "tags": []
   },
   "outputs": [
    {
     "data": {
      "text/plain": [
       "1524"
      ]
     },
     "execution_count": 51,
     "metadata": {},
     "output_type": "execute_result"
    }
   ],
   "source": [
    "len(data['documents'])"
   ]
  },
  {
   "cell_type": "code",
   "execution_count": 52,
   "id": "842e6c22-4b63-4bc7-860e-06fdefa112cc",
   "metadata": {
    "tags": []
   },
   "outputs": [],
   "source": [
    "meta_section_set = set()\n",
    "\n",
    "for meta in all_metas:\n",
    "    meta_section_set.add(meta.get('section', ''))"
   ]
  },
  {
   "cell_type": "code",
   "execution_count": 53,
   "id": "49b3d7f8-7966-4b99-971a-18fac90ec81d",
   "metadata": {
    "tags": []
   },
   "outputs": [
    {
     "data": {
      "text/plain": [
       "{'#UCHICAGO2025',\n",
       " '2024-2025 LIVING EXPENSES & FEES(based on half-time/full-time enrollment)',\n",
       " '2025-2026 LIVING EXPENSES & FEES(based on half-time/full-time enrollment)',\n",
       " 'A Chicago Booth MBA offers unrivaled return on investment for talented, ambitious students.',\n",
       " 'A day at Google for UChicago’s MS in Applied Data Science students',\n",
       " 'Additional Resources',\n",
       " 'Admissions Process',\n",
       " 'Advanced Computer Vision with Deep Learning',\n",
       " 'Advanced Linear Algebra for Machine Learning (Foundational)Optional',\n",
       " 'Advanced Linear Algebra for Machine Learning (Foundational, optional)',\n",
       " 'Advanced Machine Learning and Artificial Intelligence',\n",
       " 'Alumni & Friends | Physical Sciences Division | The University of Chicago',\n",
       " 'An NFL Ticket Pricing Study: Optimizing Revenue Using Variable And Dynamic Pricing Methods',\n",
       " 'Application Fee',\n",
       " 'Application Fee Waivers',\n",
       " 'Application Management',\n",
       " 'Application Process',\n",
       " 'Application Requirements | Physical Sciences Division | The University of Chicago',\n",
       " 'Apply to Chicago Booth',\n",
       " 'Applying to the MS in Applied Data Science Program? Here’s What We Look For – DSI',\n",
       " 'Are standardized tests required for admission?',\n",
       " 'Arnab Bose, PhD – DSI',\n",
       " 'Ask a Student in MS in Applied Data Science',\n",
       " 'Bayesian Machine Learning with Generative AI Applications',\n",
       " 'Begin Your MBA Journey',\n",
       " 'Booth Courses',\n",
       " 'Brush up on the Basics (Optional resource)',\n",
       " 'By and For Data Science Innovators',\n",
       " 'COPD Readmission and Cost Reduction Assessment',\n",
       " \"Can I apply more than once for a start term in the Master's in Applied Data Science program if I was already denied during an earlier review period?\",\n",
       " 'Candidate Statement',\n",
       " 'Capstone (2)',\n",
       " 'Capstone Sponsor Incentives',\n",
       " 'Capstone Sponsor Obligations',\n",
       " 'Career Paths',\n",
       " 'Career Seminar (Required)Pass/Fail',\n",
       " 'Career Seminar (Seminar, required)',\n",
       " 'Career Seminar (noncredit, required)',\n",
       " 'Contact Us',\n",
       " 'Core Courses',\n",
       " 'Core Courses (6)',\n",
       " 'Cost of Attendance',\n",
       " 'Cost of Attendance | Financial Aid',\n",
       " 'Course Progression',\n",
       " 'Curriculum',\n",
       " 'Danny Ng’s Path to Becoming a TA in UChicago’s Applied Data Science Program',\n",
       " 'Data Engineering Platforms for Analytics or Big Data and Cloud Computing',\n",
       " 'Data Engineering Platforms for Analytics or Big Data and Cloud ComputingLetter Grade',\n",
       " 'Data Science Capstone Project',\n",
       " 'Data Science Capstone ProjectLetter Grade',\n",
       " 'Data Science Seminar Series',\n",
       " 'Data Science for Algorithmic Marketing',\n",
       " 'Data Science for Healthcare',\n",
       " 'Data Visualization Techniques',\n",
       " 'Deadlines',\n",
       " 'Digital Marketing Analytics in Theory and Practice',\n",
       " \"Do I need to be a US citizen or permanent resident to apply to Master's in Applied Data Science Online Program?\",\n",
       " 'Do I need to provide my recommenders with instructions?',\n",
       " \"Does the Master's in Applied Data Science program offer Curricular Practical Training (CPT)?\",\n",
       " 'Does the admissions office allow recommenders to email their letter directly as an attachment to be included in an applicant’s file?',\n",
       " 'Earn a high-powered joint degree at the intersection of business and technology.',\n",
       " 'Elective 1Letter Grade',\n",
       " 'Elective 2Letter Grade',\n",
       " 'Elective 3Letter Grade',\n",
       " 'Elective 4Letter Grade',\n",
       " 'Elective Courses (4)',\n",
       " 'English Language Proficiency',\n",
       " 'English Language Requirement',\n",
       " 'Explore Recorded Admissions Events',\n",
       " 'Explore Scholarships and Financial Aid',\n",
       " 'Faculty, Instructors',\n",
       " 'Featured Graduates',\n",
       " 'Financial Aid',\n",
       " 'Financial Analytics',\n",
       " 'Flexible Formats',\n",
       " 'Foundational Courses (noncredit, optional)',\n",
       " 'Frequently Asked Questions about the MBA/MS in Applied Data Science Joint Degree Program',\n",
       " 'Generative AI Principles',\n",
       " 'Get in Touch',\n",
       " 'Get program information and application tips directly from Admissions.',\n",
       " 'Graduate Record Examination (GRE)',\n",
       " 'How do I apply to the MBA/MS joint degree program?',\n",
       " \"How do I submit the materials that will accompany my Master's in Applied Data Science application?\",\n",
       " \"How will I be notified that I am admitted to the Master's in Applied Data Science program?\",\n",
       " \"How will enrolling in Master's in Applied Data Science Online Program impact my schedule? Are classes held synchronously, asynchronously, or both?\",\n",
       " \"I don't have the required TOEFL/IELTS score. Can I retake the TOEFL/IELTS once I arrive in the U.S.?\",\n",
       " 'I have worked in the U.S. for more than two years. Does that mean that I am exempt from the TOEFL/IELTS requirement?',\n",
       " \"I took the GRE and/or GMAT and want to include my score(s) with my Master's in Applied Data Science application.\",\n",
       " 'I took the TOEFL over two years ago. Can I still use those TOEFL results?',\n",
       " \"If I am a student in the In-Person Master's in Applied Data Science Program, may I take courses in the Online Program? Conversely, if I am a student in the Online Program, may I take courses in the In-Person program?\",\n",
       " \"If I am admitted to the Master's in Applied Data Science program, what do I do next?\",\n",
       " \"If I finish my Master's in Applied Data Science application before the deadline, will I receive my decision early?\",\n",
       " 'In-Person Program',\n",
       " 'In-Person ‘Immersion Weekend’',\n",
       " 'Interested in Becoming a Capstone Sponsor?',\n",
       " 'Interested in Becoming a Capstone or Industry Research Partner?',\n",
       " 'International Students',\n",
       " 'Introduction to Statistical Concepts (Foundational)Optional',\n",
       " 'Introduction to Statistical Concepts (Foundational, optional)',\n",
       " \"Is the GRE or GMAT required for the Master's in Applied Data Science program?\",\n",
       " \"Is the Master's in Applied Data Science Online program equally academically rigorous as the In-Person program?\",\n",
       " \"Is the Master's in Applied Data Science an approved OPT/STEM program?\",\n",
       " 'JD/MBA Information Session',\n",
       " 'Jan Mrozowski’s Path from Industry Professional to Teaching in the MS in Applied Data Science Program',\n",
       " 'Joint-Degree and Certificate Programs',\n",
       " 'Leadership and Consulting for Data Science',\n",
       " 'Leadership and Consulting for Data ScienceLetter Grade',\n",
       " 'Letters of Recommendation',\n",
       " 'MBA/MS',\n",
       " 'MBA/MS In Applied Data Science Information Session',\n",
       " 'MBA/MS In Biomedical Sciences Information Session',\n",
       " 'MBA/Master Program in Computer Science Information Session',\n",
       " 'MS in Applied Data Science Courses',\n",
       " 'MS in Applied Data Science – Information Session (In-Person Program)',\n",
       " 'MS in Applied Data Science – Information Session (Online Program)',\n",
       " 'MS in Applied Data Sciencefacet-arrow-down',\n",
       " 'MS-ADS Capstone Sponsor Guide 2025',\n",
       " 'Machine Learning I',\n",
       " 'Machine Learning II',\n",
       " 'Machine Learning IILetter Grade',\n",
       " 'Machine Learning ILetter Grade',\n",
       " 'Machine Learning Operations',\n",
       " 'Master Data Science, Master Your Career',\n",
       " 'Master’s in Applied Data Science Autumn 2024 Capstone Showcase',\n",
       " 'Master’s in Applied Data Science Winter 2024 Capstone Winners',\n",
       " 'My recommender did not receive notification, can I resend it?',\n",
       " 'Natural Language Processing and Cognitive Computing',\n",
       " 'Next Application Deadlines:',\n",
       " 'Noncredit Courses',\n",
       " 'Once I upload my unofficial transcripts to my application, do I still need to provide an official transcript?',\n",
       " 'Online Program',\n",
       " 'Other Considerations',\n",
       " 'Other Scholarships',\n",
       " 'Program Structure',\n",
       " 'Programming Supplement',\n",
       " 'Python for Data Science (Foundational)Optional',\n",
       " 'Python for Data Science (Foundational, optional)',\n",
       " 'R for Data Science (Foundational)Optional',\n",
       " 'R for Data Science (Foundational, optional)',\n",
       " 'Real Time Intelligent Systems',\n",
       " 'Real-Time Credit Card Fraud Detection',\n",
       " 'Reinforcement Learning',\n",
       " 'Related Links',\n",
       " 'Resume/CV',\n",
       " 'Rigor Meets Flexibility',\n",
       " 'Sample Elective Courses',\n",
       " 'Sample Full-Time Schedule',\n",
       " 'Sample Part-Time Schedule',\n",
       " 'Staff',\n",
       " 'Start Your Application',\n",
       " 'Statistical Models for Data Science',\n",
       " 'Statistical Models for Data ScienceLetter Grade',\n",
       " 'Stay Connected!',\n",
       " 'Supply Chain Optimization',\n",
       " 'The Data Science Institute Scholarship, MS in Applied Data Science Alumni Scholarship',\n",
       " 'Time Series Analysis and Forecasting',\n",
       " 'Time Series Analysis and ForecastingLetter Grade',\n",
       " 'Top Data Science Skills Employers Are Looking For',\n",
       " 'Transcripts from all previous colleges and universities attended',\n",
       " 'Tuition',\n",
       " 'Tuition, Fees, & Aid',\n",
       " 'Upcoming Events',\n",
       " 'Using Image Recognition to Identify Yoga Poses',\n",
       " 'Using Image Recognition to Measure the Speed of a Pitch',\n",
       " 'Virtual Portfolio',\n",
       " 'What are the main differences in programs and outcomes between the MBA/MS in Applied Data Science compared to Computer Science?',\n",
       " 'What are the minimum scores required?',\n",
       " 'What courses will I take in the MBA/MS program?',\n",
       " \"What is the total cost of tuition for the Master's in Applied Data Science program?\",\n",
       " 'What materials do I need to submit to accompany my application for admission to the Masters in Applied Data Science program?',\n",
       " 'What test scores does UChicago accept as proof of English proficiency?',\n",
       " \"What value do employers place on the Master's in Applied Data Science Online degree?\",\n",
       " \"When will I receive my Master's in Applied Data Science admission decision?\",\n",
       " 'Where do I send my test scores?',\n",
       " \"Which Master's in Applied Data Science provides students with visas?\",\n",
       " 'Who is exempt from providing proof of English proficiency?',\n",
       " 'Who must provide proof of their English proficiency?',\n",
       " 'Will MBA/MS courses be in-person or online?',\n",
       " \"Will enrolling in Master's in Applied Data Science Online Program give me the opportunity to network with on-campus students, faculty/instructors, and advisors?\",\n",
       " \"Will my diploma indicate I completed the Master's in Applied Data Science Program Online?\",\n",
       " 'Your Access to Alumni',\n",
       " 'Your Career Success',\n",
       " 'Your Engagement',\n",
       " 'Your Outcomes',\n",
       " 'Your Student Experience',\n",
       " 'Your Time, Your Advancement'}"
      ]
     },
     "execution_count": 53,
     "metadata": {},
     "output_type": "execute_result"
    }
   ],
   "source": [
    "meta_section_set"
   ]
  },
  {
   "cell_type": "code",
   "execution_count": 54,
   "id": "9dddb1d7-cf44-4640-895a-4e3dd2d99417",
   "metadata": {
    "tags": []
   },
   "outputs": [],
   "source": [
    "meta_super_section_set = set()\n",
    "\n",
    "for meta in all_metas:\n",
    "    meta_super_section_set.add(meta.get('super_section', ''))"
   ]
  },
  {
   "cell_type": "code",
   "execution_count": 55,
   "id": "7474bcd5-5abb-4c94-842b-6647baf5057d",
   "metadata": {
    "tags": []
   },
   "outputs": [
    {
     "data": {
      "text/plain": [
       "{'Alumni & Friends',\n",
       " 'Application Requirements',\n",
       " 'By and For Data Science Innovators',\n",
       " 'Cost of Attendance',\n",
       " 'Curriculum',\n",
       " 'Full-Time MBA Cost',\n",
       " 'Interested in Becoming a Capstone Sponsor?',\n",
       " 'MBA/MS in Applied Data Science',\n",
       " 'MS in Applied Data Sciencefacet-arrow-down',\n",
       " 'Master’s in Applied Data Science Application Requirements',\n",
       " 'Meet your Admissions Counselor',\n",
       " 'Noncredit Courses',\n",
       " None,\n",
       " 'Program Structure',\n",
       " 'Recorded Admissions EventsJoint Degree Programs',\n",
       " 'Selected Capstone Projects',\n",
       " 'The Data Science Institute Scholarship, MS in Applied Data Science Alumni Scholarship',\n",
       " 'The University of Chicago: Graduate Studies',\n",
       " 'Unknown Super Section',\n",
       " 'Upcoming Events'}"
      ]
     },
     "execution_count": 55,
     "metadata": {},
     "output_type": "execute_result"
    }
   ],
   "source": [
    "meta_super_section_set"
   ]
  },
  {
   "cell_type": "code",
   "execution_count": 56,
   "id": "216f41dc-b821-45c4-87c9-f5682f124202",
   "metadata": {
    "tags": []
   },
   "outputs": [
    {
     "data": {
      "text/html": [
       "<div>\n",
       "<style scoped>\n",
       "    .dataframe tbody tr th:only-of-type {\n",
       "        vertical-align: middle;\n",
       "    }\n",
       "\n",
       "    .dataframe tbody tr th {\n",
       "        vertical-align: top;\n",
       "    }\n",
       "\n",
       "    .dataframe thead th {\n",
       "        text-align: right;\n",
       "    }\n",
       "</style>\n",
       "<table border=\"1\" class=\"dataframe\">\n",
       "  <thead>\n",
       "    <tr style=\"text-align: right;\">\n",
       "      <th></th>\n",
       "      <th>chunk_text</th>\n",
       "      <th>metadata</th>\n",
       "    </tr>\n",
       "  </thead>\n",
       "  <tbody>\n",
       "    <tr>\n",
       "      <th>0</th>\n",
       "      <td>Career Seminar (Seminar, required)The Pass/Fail Career Seminar supports the development of industry professional skills, job and/or internship searches, and other in-demand areas of competency among today’s employers. Students enroll in the Career Seminar each quarter in order to engage in unique content throughout their degree program. Students with significant full-time work experience may be eligible to waive this course. 0 units, no cost.Introduction to Statistical Concepts (Foundational...</td>\n",
       "      <td>{'source_url': 'https://datascience.uchicago.edu/education/masters-programs/in-person-program/', 'retrieved_at': '2025-07-22T20:17:29.207159', 'title': 'In-Person Program – DSI', 'section': 'Noncredit Courses', 'super_section': 'Unknown Super Section', 'source_idx': 0, 'chunk_idx': 0}</td>\n",
       "    </tr>\n",
       "    <tr>\n",
       "      <th>1</th>\n",
       "      <td>. 0 units, no cost.R for Data Science (Foundational, optional)This course is held the five weeks leading up to the start of your first quarter and is an introduction to the essential concepts and techniques for the statistical computing language R. 0 units, no cost.Python for Data Science (Foundational, optional)This course is held concurrently with the first five weeks of your first quarter in the program and starts with an introduction to the Python programming language basic syntax and en...</td>\n",
       "      <td>{'source_url': 'https://datascience.uchicago.edu/education/masters-programs/in-person-program/', 'retrieved_at': '2025-07-22T20:17:29.207159', 'title': 'In-Person Program – DSI', 'section': 'Noncredit Courses', 'super_section': 'Unknown Super Section', 'source_idx': 0, 'chunk_idx': 1}</td>\n",
       "    </tr>\n",
       "    <tr>\n",
       "      <th>2</th>\n",
       "      <td>. 0 units, no cost.Brush up on the Basics (Optional resource)If you would like to gauge your preparation in Foundational course topics, we recommend specific Coursera courses that cover very similar topics.If you would like to gauge your preparation in Foundational course topics, we recommend specific Coursera courses that cover very similar topics.Four Coursera courses cover very similar topics. You can review the Coursera curricula to see if you are already well-prepared, or if you like, s...</td>\n",
       "      <td>{'source_url': 'https://datascience.uchicago.edu/education/masters-programs/in-person-program/', 'retrieved_at': '2025-07-22T20:17:29.207159', 'title': 'In-Person Program – DSI', 'section': 'Noncredit Courses', 'super_section': 'Unknown Super Section', 'source_idx': 0, 'chunk_idx': 2}</td>\n",
       "    </tr>\n",
       "    <tr>\n",
       "      <th>3</th>\n",
       "      <td>.Mathematics for Machine Learning: Linear Algebra (offered by University College London)Basis Data Descriptors, Statistical Distributions, and Application to Business Decisions (offered by Rice University)Python for Data Science, AI, &amp; Development (offered by IBM)Data Analysis with R Programming (offered by Google)</td>\n",
       "      <td>{'source_url': 'https://datascience.uchicago.edu/education/masters-programs/in-person-program/', 'retrieved_at': '2025-07-22T20:17:29.207159', 'title': 'In-Person Program – DSI', 'section': 'Noncredit Courses', 'super_section': 'Unknown Super Section', 'source_idx': 0, 'chunk_idx': 3}</td>\n",
       "    </tr>\n",
       "    <tr>\n",
       "      <th>948</th>\n",
       "      <td>Career Seminar (Seminar, required)The Pass/Fail Career Seminar supports the development of industry professional skills, job and/or internship searches, and other in-demand areas of competency among today’s employers. Students enroll in the Career Seminar each quarter in order to engage in unique content throughout their degree program. Students with significant full-time work experience may be eligible to waive this course. 0 units, no cost.Introduction to Statistical Concepts (Foundational...</td>\n",
       "      <td>{'source_url': 'https://datascience.uchicago.edu/education/masters-programs/online-program/', 'retrieved_at': '2025-07-22T20:17:34.238124', 'title': 'Online Program – DSI', 'section': 'Noncredit Courses', 'super_section': 'Unknown Super Section', 'source_idx': 815, 'chunk_idx': 0}</td>\n",
       "    </tr>\n",
       "    <tr>\n",
       "      <th>949</th>\n",
       "      <td>. 0 units, no cost.R for Data Science (Foundational, optional)This Foundational, optional course is held in the 5 weeks leading up to the start of your first quarter. This course is an introduction to the essential concepts and techniques for the statistical computing language R. 0 units, no cost.Python for Data Science (Foundational, optional)This Foundational, optional course is held concurrently with the first five weeks of your first quarter in the program. This course in Python starts w...</td>\n",
       "      <td>{'source_url': 'https://datascience.uchicago.edu/education/masters-programs/online-program/', 'retrieved_at': '2025-07-22T20:17:34.238124', 'title': 'Online Program – DSI', 'section': 'Noncredit Courses', 'super_section': 'Unknown Super Section', 'source_idx': 815, 'chunk_idx': 1}</td>\n",
       "    </tr>\n",
       "    <tr>\n",
       "      <th>950</th>\n",
       "      <td>. The advanced linear algebra course is focused on the theoretical concepts and real-life applications of linear algebra for machine learning. 0 units, no cost.Brush up on the Basics (Optional resource)If you would like to gauge your preparation in these Foundational course topics, we recommend specific Coursera courses that cover very similar topics.We have identified four Coursera courses which cover very similar topics. You can review the Coursera curricula to see if you are already well-...</td>\n",
       "      <td>{'source_url': 'https://datascience.uchicago.edu/education/masters-programs/online-program/', 'retrieved_at': '2025-07-22T20:17:34.238124', 'title': 'Online Program – DSI', 'section': 'Noncredit Courses', 'super_section': 'Unknown Super Section', 'source_idx': 815, 'chunk_idx': 2}</td>\n",
       "    </tr>\n",
       "    <tr>\n",
       "      <th>951</th>\n",
       "      <td>.Mathematics for Machine Learning: Linear Algebra (offered by University College London)Basis Data Descriptors, Statistical Distributions, and Application to Business Decisions (offered by Rice University)Python for Data Science, AI, &amp; Development (offered by IBM)Data Analysis with R Programming (offered by Google)</td>\n",
       "      <td>{'source_url': 'https://datascience.uchicago.edu/education/masters-programs/online-program/', 'retrieved_at': '2025-07-22T20:17:34.238124', 'title': 'Online Program – DSI', 'section': 'Noncredit Courses', 'super_section': 'Unknown Super Section', 'source_idx': 815, 'chunk_idx': 3}</td>\n",
       "    </tr>\n",
       "  </tbody>\n",
       "</table>\n",
       "</div>"
      ],
      "text/plain": [
       "                                                                                                                                                                                                                                                                                                                                                                                                                                                                                                              chunk_text  \\\n",
       "0    Career Seminar (Seminar, required)The Pass/Fail Career Seminar supports the development of industry professional skills, job and/or internship searches, and other in-demand areas of competency among today’s employers. Students enroll in the Career Seminar each quarter in order to engage in unique content throughout their degree program. Students with significant full-time work experience may be eligible to waive this course. 0 units, no cost.Introduction to Statistical Concepts (Foundational...   \n",
       "1    . 0 units, no cost.R for Data Science (Foundational, optional)This course is held the five weeks leading up to the start of your first quarter and is an introduction to the essential concepts and techniques for the statistical computing language R. 0 units, no cost.Python for Data Science (Foundational, optional)This course is held concurrently with the first five weeks of your first quarter in the program and starts with an introduction to the Python programming language basic syntax and en...   \n",
       "2    . 0 units, no cost.Brush up on the Basics (Optional resource)If you would like to gauge your preparation in Foundational course topics, we recommend specific Coursera courses that cover very similar topics.If you would like to gauge your preparation in Foundational course topics, we recommend specific Coursera courses that cover very similar topics.Four Coursera courses cover very similar topics. You can review the Coursera curricula to see if you are already well-prepared, or if you like, s...   \n",
       "3                                                                                                                                                                                           .Mathematics for Machine Learning: Linear Algebra (offered by University College London)Basis Data Descriptors, Statistical Distributions, and Application to Business Decisions (offered by Rice University)Python for Data Science, AI, & Development (offered by IBM)Data Analysis with R Programming (offered by Google)   \n",
       "948  Career Seminar (Seminar, required)The Pass/Fail Career Seminar supports the development of industry professional skills, job and/or internship searches, and other in-demand areas of competency among today’s employers. Students enroll in the Career Seminar each quarter in order to engage in unique content throughout their degree program. Students with significant full-time work experience may be eligible to waive this course. 0 units, no cost.Introduction to Statistical Concepts (Foundational...   \n",
       "949  . 0 units, no cost.R for Data Science (Foundational, optional)This Foundational, optional course is held in the 5 weeks leading up to the start of your first quarter. This course is an introduction to the essential concepts and techniques for the statistical computing language R. 0 units, no cost.Python for Data Science (Foundational, optional)This Foundational, optional course is held concurrently with the first five weeks of your first quarter in the program. This course in Python starts w...   \n",
       "950  . The advanced linear algebra course is focused on the theoretical concepts and real-life applications of linear algebra for machine learning. 0 units, no cost.Brush up on the Basics (Optional resource)If you would like to gauge your preparation in these Foundational course topics, we recommend specific Coursera courses that cover very similar topics.We have identified four Coursera courses which cover very similar topics. You can review the Coursera curricula to see if you are already well-...   \n",
       "951                                                                                                                                                                                         .Mathematics for Machine Learning: Linear Algebra (offered by University College London)Basis Data Descriptors, Statistical Distributions, and Application to Business Decisions (offered by Rice University)Python for Data Science, AI, & Development (offered by IBM)Data Analysis with R Programming (offered by Google)   \n",
       "\n",
       "                                                                                                                                                                                                                                                                                          metadata  \n",
       "0    {'source_url': 'https://datascience.uchicago.edu/education/masters-programs/in-person-program/', 'retrieved_at': '2025-07-22T20:17:29.207159', 'title': 'In-Person Program – DSI', 'section': 'Noncredit Courses', 'super_section': 'Unknown Super Section', 'source_idx': 0, 'chunk_idx': 0}  \n",
       "1    {'source_url': 'https://datascience.uchicago.edu/education/masters-programs/in-person-program/', 'retrieved_at': '2025-07-22T20:17:29.207159', 'title': 'In-Person Program – DSI', 'section': 'Noncredit Courses', 'super_section': 'Unknown Super Section', 'source_idx': 0, 'chunk_idx': 1}  \n",
       "2    {'source_url': 'https://datascience.uchicago.edu/education/masters-programs/in-person-program/', 'retrieved_at': '2025-07-22T20:17:29.207159', 'title': 'In-Person Program – DSI', 'section': 'Noncredit Courses', 'super_section': 'Unknown Super Section', 'source_idx': 0, 'chunk_idx': 2}  \n",
       "3    {'source_url': 'https://datascience.uchicago.edu/education/masters-programs/in-person-program/', 'retrieved_at': '2025-07-22T20:17:29.207159', 'title': 'In-Person Program – DSI', 'section': 'Noncredit Courses', 'super_section': 'Unknown Super Section', 'source_idx': 0, 'chunk_idx': 3}  \n",
       "948      {'source_url': 'https://datascience.uchicago.edu/education/masters-programs/online-program/', 'retrieved_at': '2025-07-22T20:17:34.238124', 'title': 'Online Program – DSI', 'section': 'Noncredit Courses', 'super_section': 'Unknown Super Section', 'source_idx': 815, 'chunk_idx': 0}  \n",
       "949      {'source_url': 'https://datascience.uchicago.edu/education/masters-programs/online-program/', 'retrieved_at': '2025-07-22T20:17:34.238124', 'title': 'Online Program – DSI', 'section': 'Noncredit Courses', 'super_section': 'Unknown Super Section', 'source_idx': 815, 'chunk_idx': 1}  \n",
       "950      {'source_url': 'https://datascience.uchicago.edu/education/masters-programs/online-program/', 'retrieved_at': '2025-07-22T20:17:34.238124', 'title': 'Online Program – DSI', 'section': 'Noncredit Courses', 'super_section': 'Unknown Super Section', 'source_idx': 815, 'chunk_idx': 2}  \n",
       "951      {'source_url': 'https://datascience.uchicago.edu/education/masters-programs/online-program/', 'retrieved_at': '2025-07-22T20:17:34.238124', 'title': 'Online Program – DSI', 'section': 'Noncredit Courses', 'super_section': 'Unknown Super Section', 'source_idx': 815, 'chunk_idx': 3}  "
      ]
     },
     "execution_count": 56,
     "metadata": {},
     "output_type": "execute_result"
    }
   ],
   "source": [
    "df_chunks[df_chunks['metadata'].apply(lambda x: x.get('section', '') == 'Noncredit Courses')]"
   ]
  },
  {
   "cell_type": "code",
   "execution_count": 57,
   "id": "8acaf6a1-9f2f-4256-8b07-23170e75c82f",
   "metadata": {
    "tags": []
   },
   "outputs": [],
   "source": [
    "# all_metas.get('section', '')"
   ]
  },
  {
   "cell_type": "markdown",
   "id": "777fb7d3-fea0-405c-b8ea-08780c337098",
   "metadata": {},
   "source": [
    "## Query-Response Pipeline (RAG)"
   ]
  },
  {
   "cell_type": "code",
   "execution_count": 58,
   "id": "b904b348-c94d-4e4a-bd89-3a9068bdca80",
   "metadata": {
    "tags": []
   },
   "outputs": [],
   "source": [
    "# Improved retrieval function with query expansion and better ranking\n",
    "from langchain.vectorstores.base import VectorStoreRetriever\n",
    "import re\n",
    "from typing import List, Tuple, Dict, Any\n",
    "\n",
    "def expand_query(query: str) -> List[str]:\n",
    "    \"\"\"Expand query with related terms for better retrieval\"\"\"\n",
    "    expansions = {\n",
    "        \"core courses\": [\"required courses\", \"core curriculum\", \"fundamental courses\", \n",
    "                        \"mandatory courses\", \"core classes\", \"required classes\"],\n",
    "        \"admission requirements\": [\"application requirements\", \"prerequisites\", \n",
    "                                 \"eligibility\", \"admission criteria\"],\n",
    "        \"capstone\": [\"final project\", \"thesis\", \"culminating project\", \"capstone project\"],\n",
    "        \"curriculum\": [\"courses\", \"program structure\", \"degree requirements\"],\n",
    "        \"machine learning\": [\"ML\", \"artificial intelligence\", \"AI\", \"deep learning\"],\n",
    "        \"data science\": [\"analytics\", \"data analytics\", \"data mining\", \"statistics\"]\n",
    "    }\n",
    "    \n",
    "    expanded_queries = [query]\n",
    "    query_lower = query.lower()\n",
    "    \n",
    "    for key, synonyms in expansions.items():\n",
    "        if key in query_lower:\n",
    "            for synonym in synonyms:\n",
    "                expanded_queries.append(query.replace(key, synonym, 1))\n",
    "    \n",
    "    return expanded_queries\n",
    "\n",
    "def detect_metadata_filter(query: str) -> Optional[Dict[str, Any]]:\n",
    "    \"\"\"\n",
    "    Look for trigger phrases in the query and return an appropriate\n",
    "    metadata filter for your vector store.\n",
    "    \"\"\"\n",
    "    q = query.lower()\n",
    "    mapping = {\n",
    "        \"core course\":     {\"section\": {\"$eq\": \"Core Courses\"}},\n",
    "        \"elective\":        {\"section\": {\"$eq\": \"Sample Elective Courses\"}},\n",
    "        \"foundation\":      {\"section\": {\"$eq\": \"Noncredit Courses\"}},\n",
    "        \"capstone sponsor\":{\"section\": {\"$eq\": \"MS-ADS Capstone Sponsor Guide 2025\"}},\n",
    "        \"application\":     {\"super_section\": {\"$eq\": \"Master’s in Applied Data Science Application Requirements\"}},\n",
    "        \"admission\":       {\"super_section\": {\"$eq\": \"Master’s in Applied Data Science Application Requirements\"}}\n",
    "\n",
    "    }\n",
    "\n",
    "    for trigger, filt in mapping.items():\n",
    "        if trigger in q:\n",
    "            return filt\n",
    "    return None\n",
    "\n",
    "\n",
    "def retrive_top_k_docs_improved(selected_query: str, \n",
    "                               db_retriever: VectorStoreRetriever,\n",
    "                               embedder: Embeddings,\n",
    "                               k_docs: int = 10,  # Increased from 5\n",
    "                               lambda_mult: float = 0.3,  # Lower for more similarity focus\n",
    "                               query_prefix: str = \"query: \",\n",
    "                               doc_prefix: str = \"passage: \",\n",
    "                               use_query_expansion: bool = True):\n",
    "    \"\"\"\n",
    "    Improved retrieval with query expansion and better re-ranking\n",
    "    \"\"\"\n",
    "    \n",
    "    if embedder is None:\n",
    "        raise ValueError(\"You must supply an `embedder`.\")\n",
    "    \n",
    "    # Step 1: Query expansion\n",
    "    if use_query_expansion:\n",
    "        expanded_queries = expand_query(selected_query)\n",
    "    else:\n",
    "        expanded_queries = [selected_query]\n",
    "    \n",
    "    # Step 2: Auto‐detect a metadata filter\n",
    "    metadata_filter = detect_metadata_filter(selected_query)\n",
    "    \n",
    "    # Step 3: Retrieve documents for each expanded query with metadata filter\n",
    "    all_retrieved_docs = []\n",
    "    \n",
    "    for exp_query in expanded_queries:\n",
    "        formatted_query = f\"{query_prefix}{exp_query}\"\n",
    "        \n",
    "        # Define retriever method\n",
    "        retriever = db_retriever.as_retriever(\n",
    "            search_type=\"mmr\", \n",
    "            search_kwargs={\"k\": k_docs, \n",
    "                           \"lambda_mult\": lambda_mult,\n",
    "                          **({\"filter\": metadata_filter} if metadata_filter else {})}\n",
    "        )\n",
    "        \n",
    "        # Get relevant documents\n",
    "        results = retriever.get_relevant_documents(formatted_query)\n",
    "        \n",
    "        # Store documents with their expanded query context\n",
    "        for doc in results:\n",
    "            all_retrieved_docs.append((doc.page_content, exp_query))\n",
    "    \n",
    "    # Step 3: Remove duplicates while preserving order\n",
    "    seen_docs = set()\n",
    "    unique_docs = []\n",
    "    for doc_content, exp_query in all_retrieved_docs:\n",
    "        if doc_content not in seen_docs:\n",
    "            seen_docs.add(doc_content)\n",
    "            unique_docs.append((doc_content, exp_query))\n",
    "    \n",
    "    # Step 4: Re-rank all unique documents against original query\n",
    "    original_formatted_query = f\"{query_prefix}{selected_query}\"\n",
    "    query_embed = embedder.embed_query(original_formatted_query)\n",
    "    \n",
    "    # Format documents for embedding\n",
    "    formatted_retrieved_docs = [f\"{doc_prefix}{doc}\" for doc, _ in unique_docs]\n",
    "    \n",
    "    # Embed documents\n",
    "    doc_embeds = embedder.embed_documents(formatted_retrieved_docs)\n",
    "    \n",
    "    # Compute similarity scores\n",
    "    similarity_scores = cosine_similarity([query_embed], doc_embeds)[0]\n",
    "    \n",
    "    # Step 5: Combine documents with scores and rank\n",
    "    ranked_docs = []\n",
    "    for i, (formatted_doc, score) in enumerate(zip(formatted_retrieved_docs, similarity_scores)):\n",
    "        original_doc, exp_query = unique_docs[i]\n",
    "        ranked_docs.append((formatted_doc, score, exp_query))\n",
    "    \n",
    "    # Sort by similarity score (descending)\n",
    "    ranked_docs.sort(key=lambda x: x[1], reverse=True)\n",
    "    \n",
    "    # Step 6: Apply keyword boost for exact matches\n",
    "    boosted_docs = []\n",
    "    query_keywords = set(re.findall(r'\\b\\w+\\b', selected_query.lower()))\n",
    "    \n",
    "    for doc, score, exp_query in ranked_docs:\n",
    "        doc_keywords = set(re.findall(r'\\b\\w+\\b', doc.lower()))\n",
    "        keyword_overlap = len(query_keywords.intersection(doc_keywords))\n",
    "        \n",
    "        # Boost score based on keyword overlap\n",
    "        boosted_score = score + (keyword_overlap * 0.05)  # Small boost for keyword matches\n",
    "        boosted_docs.append((doc, boosted_score, exp_query))\n",
    "    \n",
    "    # Final sort by boosted scores\n",
    "    boosted_docs.sort(key=lambda x: x[1], reverse=True)\n",
    "    \n",
    "    # Display results\n",
    "    print(\"Query:\", selected_query)\n",
    "    print(f\"\\nExpanded to {len(expanded_queries)} queries\")\n",
    "    print(f\"Retrieved {len(unique_docs)} unique documents\")\n",
    "    print(f\"\\nTop {k_docs} Retrieved Chunks with Scores:\\n\")\n",
    "    \n",
    "    final_results = []\n",
    "    for i, (doc, score, exp_query) in enumerate(boosted_docs[:k_docs]):\n",
    "        print(f\"Chunk {i+1} (Score: {score:.4f}, From: '{exp_query}'):\")\n",
    "        print(f\"{doc}\")\n",
    "        print(f\"{'-'*80}\")\n",
    "        final_results.append((doc, score))\n",
    "        \n",
    "    return boosted_docs[:k_docs]"
   ]
  },
  {
   "cell_type": "code",
   "execution_count": 64,
   "id": "eba11ab0-371f-4b32-8875-60d1df3ce965",
   "metadata": {
    "tags": []
   },
   "outputs": [
    {
     "name": "stdout",
     "output_type": "stream",
     "text": [
      "Available queries:\n",
      "1: What are the core courses in the MS in Applied Data Science program?\n",
      "2: What are the admission requirements for the MS in Applied Data Science program?\n",
      "3: Can you provide information about the capstone project?\n"
     ]
    },
    {
     "name": "stdin",
     "output_type": "stream",
     "text": [
      "Enter number of your query choice:  1\n"
     ]
    },
    {
     "name": "stdout",
     "output_type": "stream",
     "text": [
      "\n",
      "Selected query: What are the core courses in the MS in Applied Data Science program?\n",
      "\n",
      "==================================================\n",
      "IMPROVED RETRIEVAL METHOD\n",
      "==================================================\n",
      "Query: What are the core courses in the MS in Applied Data Science program?\n",
      "\n",
      "Expanded to 11 queries\n",
      "Retrieved 6 unique documents\n",
      "\n",
      "Top 10 Retrieved Chunks with Scores:\n",
      "\n",
      "Chunk 1 (Score: 0.6268, From: 'What are the core courses in the MS in Applied Data Science program?'):\n",
      "passage: .Leadership and Consulting for Data ScienceThe Leadership and Consulting for Data Scientist course is focused on:• Learning techniques and proven methods to effectively grasp the business domain including organizational dynamics of consultancies and client organizations• Developing relevant solutions to enterprise problems using the sampling methods, traditional statistical techniques and modern machine learning models that deliver value to the organization• Practicing successful project delivery through effective data discovery, influential team membership and leadership, project management, and communication at every stageThis course will not only make you a better data scientist; it will make you and your analyses more approachable, more persuasive, and ultimately more successful\n",
      "--------------------------------------------------------------------------------\n",
      "Chunk 2 (Score: 0.6120, From: 'What are the core courses in the MS in Applied Data Science program?'):\n",
      "passage: . These methods allowed working with variables that span a broader variety of domains and probability distributions. Besides, methods for the analysis of general associations were developed that are different from the Pearson correlation.Machine Learning IThis course is aimed at providing students an introduction to machine learning with data mining techniques and algorithms. It gives a rigorous methodological foundation in analytical and software tools to successfully undertake projects in Data Science. Students are exposed to concepts of exploratory analyses for uncovering and detecting patterns in multivariate data, hypothesizing and detecting relationships among variables, conducting confirmatory analyses, and building models for predictive and descriptive purposes\n",
      "--------------------------------------------------------------------------------\n",
      "Chunk 3 (Score: 0.5879, From: 'What are the core courses in the MS in Applied Data Science program?'):\n",
      "passage: .Data Engineering Platforms for Analytics or Big Data and Cloud ComputingData Engineering Platforms teaches effective data engineering—an essential first step in building an analytics-driven competitive advantage in the market.Big Data and Cloud Computing teaches students how to approach big data and large-scale machine learning applications. There is no single definition of big data and multiple emerging software packages exist to work with it, and we will cover the most popular approaches\n",
      "--------------------------------------------------------------------------------\n",
      "Chunk 4 (Score: 0.4477, From: 'What are the core courses in the MS in Applied Data Science program?'):\n",
      "passage: .Data Science Capstone ProjectThe required Capstone Project is completed over two quarters and covers research design, implementation, and writing.Full-time students start their capstone project in their third quarter. Part-time students generally begin the capstone project in their fifth quarter.\n",
      "--------------------------------------------------------------------------------\n",
      "Chunk 5 (Score: 0.3785, From: 'What are the core courses in the MS in Applied Data Science program?'):\n",
      "passage: . It will present predictive modeling in the context of balancing predictive and descriptive accuracies.Machine Learning IIThe objective of this course is three-folds–first, to extend student understanding of predictive modeling with machine learning concepts and methodologies from Machine Learning 1 into the realm of Deep Learning and Generative AI. Second, to develop the ability to apply those concepts and methodologies to diverse practical applications, evaluate the results and recommend the next best action. Third, to discuss and understand state-of-the machine learning and deep learning research and development and their applications\n",
      "--------------------------------------------------------------------------------\n",
      "Chunk 6 (Score: 0.3216, From: 'What are the core courses in the MS in Applied Data Science program?'):\n",
      "passage: Time Series Analysis and ForecastingTime Series Analysis is a science as well as the art of making rational predictions based on previous records. It is widely used in various fields in today’s business settings.Statistical Models for Data ScienceIn a traditional linear model, the observed response follows a normal distribution, and the expected response value is a linear combination of the predictors.  Since Carl Friedrich Gauss (1777-1855) and Adrien-Marie Legendre (1752-1833) created this linear model framework in the early 1800s, the “Linear Normal” assumption has been the norm in statistics/data science for almost two centuries.  New methods based on probability distributions other than Gaussian appeared only in the second half of the twentieth century\n",
      "--------------------------------------------------------------------------------\n"
     ]
    }
   ],
   "source": [
    "# Compare original vs improved retrieval with question selection\n",
    "QUERIES = {\"1\": \"What are the core courses in the MS in Applied Data Science program?\",\n",
    "           \"2\": \"What are the admission requirements for the MS in Applied Data Science program?\",\n",
    "           \"3\": \"Can you provide information about the capstone project?\"}\n",
    "\n",
    "print(\"Available queries:\")\n",
    "for key, value in QUERIES.items():\n",
    "    print(f\"{key}: {value}\")\n",
    "\n",
    "query_choice = input(\"Enter number of your query choice: \")\n",
    "selected_query = QUERIES.get(query_choice)\n",
    "\n",
    "if selected_query:\n",
    "    print(f\"\\nSelected query: {selected_query}\")\n",
    "    \n",
    "    print(\"\\n\" + \"=\" * 50)\n",
    "    print(\"IMPROVED RETRIEVAL METHOD\")\n",
    "    print(\"=\" * 50)\n",
    "    \n",
    "    result_improved = retrive_top_k_docs_improved(selected_query, \n",
    "                       db_retriever = db,\n",
    "                       embedder = embedder, \n",
    "                       k_docs = 10, \n",
    "                       lambda_mult = 0.3,\n",
    "                       query_prefix = 'query: ',\n",
    "                       doc_prefix = 'passage: ',\n",
    "                       use_query_expansion = True)\n",
    "else:\n",
    "    print(\"Invalid choice. Please select 1, 2, or 3.\")"
   ]
  },
  {
   "cell_type": "code",
   "execution_count": 61,
   "id": "d68b18cf-79d7-4e36-8f1d-b00f7dc992df",
   "metadata": {
    "tags": []
   },
   "outputs": [],
   "source": [
    "from langchain.vectorstores.base import VectorStoreRetriever\n",
    "\n",
    "def create_rag_prompt(selected_query: str, \n",
    "                       db_retriever: VectorStoreRetriever,\n",
    "                       embedder: Embeddings,\n",
    "                       k_docs: int = 10,\n",
    "                       lambda_mult: float = 0.3,\n",
    "                       query_prefix: str = \"query: \",\n",
    "                       doc_prefix: str = \"passage: \",\n",
    "                       use_query_expansion: bool = True):\n",
    "    \"\"\"\n",
    "    Retrieve the top-k most relevant chunks for a given query using\n",
    "    Maximal Marginal Relevance, then re-rank by cosine similarity.\n",
    "\n",
    "    Args:\n",
    "        query: Raw query string.\n",
    "        db_retriever: The `db.as_retriever(...)` object configured with MMR.\n",
    "        embedder: An Embeddings instance (implements embed_query & embed_documents).\n",
    "        k: How many chunks to return.\n",
    "        lambda_mult: MMR diversity parameter (0→pure similarity, 1→pure diversity).\n",
    "        query_prefix: Text to prepend before embedding the query.\n",
    "        doc_prefix: Text to prepend before embedding each chunk.\n",
    "\n",
    "    Returns:\n",
    "        A list of (chunk_text, score) sorted descending by score.\n",
    "    \"\"\"\n",
    "    \n",
    "    if embedder is None:\n",
    "        raise ValueError(\"You must supply an `embedder`.\")\n",
    "    \n",
    "    # Step 1: Query expansion\n",
    "    if use_query_expansion:\n",
    "        expanded_queries = expand_query(selected_query)\n",
    "    else:\n",
    "        expanded_queries = [selected_query]\n",
    "    \n",
    "    # Step 2: Auto‐detect a metadata filter\n",
    "    metadata_filter = detect_metadata_filter(selected_query)\n",
    "    \n",
    "    # Step 3: Retrieve documents for each expanded query with metadata filter\n",
    "    all_retrieved_docs = []\n",
    "    \n",
    "    for exp_query in expanded_queries:\n",
    "        formatted_query = f\"{query_prefix}{exp_query}\"\n",
    "        \n",
    "        # Define retriever method\n",
    "        retriever = db_retriever.as_retriever(\n",
    "            search_type=\"mmr\", \n",
    "            search_kwargs={\"k\": k_docs, \n",
    "                           \"lambda_mult\": lambda_mult,\n",
    "                          **({\"filter\": metadata_filter} if metadata_filter else {})}\n",
    "        )\n",
    "        \n",
    "        # Get relevant documents\n",
    "        results = retriever.get_relevant_documents(formatted_query)\n",
    "        \n",
    "        # Store documents with their expanded query context\n",
    "        for doc in results:\n",
    "            all_retrieved_docs.append((doc.page_content, exp_query))\n",
    "    \n",
    "    # Step 4: Remove duplicates while preserving order\n",
    "    seen_docs = set()\n",
    "    unique_docs = []\n",
    "    for doc_content, exp_query in all_retrieved_docs:\n",
    "        if doc_content not in seen_docs:\n",
    "            seen_docs.add(doc_content)\n",
    "            unique_docs.append((doc_content, exp_query))\n",
    "    \n",
    "    # Step 5: Re-rank all unique documents against original query\n",
    "    original_formatted_query = f\"{query_prefix}{selected_query}\"\n",
    "    query_embed = embedder.embed_query(original_formatted_query)\n",
    "    \n",
    "    # Format documents for embedding\n",
    "    formatted_retrieved_docs = [f\"{doc_prefix}{doc}\" for doc, _ in unique_docs]\n",
    "    \n",
    "    # Embed documents\n",
    "    doc_embeds = embedder.embed_documents(formatted_retrieved_docs)\n",
    "    \n",
    "    # Compute similarity scores\n",
    "    similarity_scores = cosine_similarity([query_embed], doc_embeds)[0]\n",
    "    \n",
    "    # Step 6: Combine documents with scores and rank\n",
    "    ranked_docs = []\n",
    "    for i, (formatted_doc, score) in enumerate(zip(formatted_retrieved_docs, similarity_scores)):\n",
    "        original_doc, exp_query = unique_docs[i]\n",
    "        ranked_docs.append((formatted_doc, score, exp_query))\n",
    "    \n",
    "    # Sort by similarity score (descending)\n",
    "    ranked_docs.sort(key=lambda x: x[1], reverse=True)\n",
    "    \n",
    "    # Step 7: Apply keyword boost for exact matches\n",
    "    boosted_docs = []\n",
    "    query_keywords = set(re.findall(r'\\b\\w+\\b', selected_query.lower()))\n",
    "    \n",
    "    for doc, score, exp_query in ranked_docs:\n",
    "        doc_keywords = set(re.findall(r'\\b\\w+\\b', doc.lower()))\n",
    "        keyword_overlap = len(query_keywords.intersection(doc_keywords))\n",
    "        \n",
    "        # Boost score based on keyword overlap\n",
    "        boosted_score = score + (keyword_overlap * 0.05)  # Small boost for keyword matches\n",
    "        boosted_docs.append((doc, boosted_score, exp_query))\n",
    "    \n",
    "    # Final sort by boosted scores\n",
    "    boosted_docs.sort(key=lambda x: x[1], reverse=True)\n",
    "\n",
    "    # Combine the retrieved context into a single block of text\n",
    "    context = \"\\n\".join([doc for doc, score, exp_query in boosted_docs])\n",
    "\n",
    "    # Compose the RAG prompt by combining the context and the user's question\n",
    "    rag_prompt = f\"\"\"\n",
    "    You are an educational assistant. \n",
    "    Your task is to extract information related to Master of Science in Applied Data Science program, such as admission requirement, curriculum, faculties, career outcomes, and etc.\n",
    "    Use the following context to answer the question.\n",
    "\n",
    "    [CONTEXT]\n",
    "    {context}\n",
    "\n",
    "    [QUESTION]\n",
    "    {formatted_query}\n",
    "\n",
    "    Summarize your answers that are easy to follow. Feel free to use a combination of paragraph and bullet points for your answers\n",
    "    \"\"\"\n",
    "\n",
    "    # Display the final composed prompt that will be passed to the LLM\n",
    "    print(\"=== RAG Augmented Prompt ===\")\n",
    "    print(rag_prompt)\n",
    "        \n",
    "    return rag_prompt\n"
   ]
  },
  {
   "cell_type": "code",
   "execution_count": 62,
   "id": "b55498b5-849e-4f1a-a105-5abbc5fdd197",
   "metadata": {
    "tags": []
   },
   "outputs": [
    {
     "name": "stdin",
     "output_type": "stream",
     "text": [
      "Enter number of your query choice 3\n"
     ]
    },
    {
     "name": "stdout",
     "output_type": "stream",
     "text": [
      "=== RAG Augmented Prompt ===\n",
      "\n",
      "    You are an educational assistant. \n",
      "    Your task is to extract information related to Master of Science in Applied Data Science program, such as admission requirement, curriculum, faculties, career outcomes, and etc.\n",
      "    Use the following context to answer the question.\n",
      "\n",
      "    [CONTEXT]\n",
      "    passage: .Data Science Capstone ProjectThe required Capstone Project is completed over two quarters and covers research design, implementation, and writing.Full-time students start their capstone project in their third quarter. Part-time students generally begin the capstone project in their fifth quarter.\n",
      "passage: . A list of sample electives (subject to change) appear at the bottom of theIn-PersonandOnline Programpages.CapstoneData Science Capstone ProjectLetter GradeThe required Capstone Project is completed over two quarters and covers research design, implementation, and writing.Full-time students start their capstone project in their third quarter. Part-time students generally begin the capstone project in their fifth quarter.SeminarCareer Seminar (Required)Pass/FailThe Career Seminar (Pass/Fail) supports the development of industry professional skills, job and/or internship searches, and other in-demand areas of competency among today’s employers. Students enroll in the Career Seminar each quarter in order to engage in unique content throughout their degree program\n",
      "passage: The required Capstone Project is completed over two quarters and covers research design, implementation, and writing.Full-time students start their capstone project in their third quarter. Part-time students generally begin the capstone project in their fifth quarter.\n",
      "passage: CONCLUSION: CAPSTONE SHOWCASE\n",
      "Project outcomes are virtually presented to the Applied Data Science community \n",
      "CAPSTONE II\n",
      "Implementation ends\n",
      "Project summary and research paper are finalized\n",
      "Capstone projects span two academic quarters and conclude with a virtual Showcase. The projects are guided by this outline and more detailed schedule on page 4: Capstone projects span  two acad emic qu arters a nd conclud e wi th a virt ual\n",
      " Showcase. The projects are guided by this outline and more detailed schedule on page 4: \n",
      "Capstone I\n",
      "Break\n",
      "Capstone II\n",
      "Capstone\n",
      " Showcase\n",
      "Project\n",
      " Timeline\n",
      "02 | 2025\n",
      "passage: .CapstoneData Science Capstone ProjectLetter GradeThe required Capstone Project is completed over two quarters and covers research design, implementation, and writing.Full-time students start their capstone project in their third quarter. Part-time students generally begin the capstone project in their fifth quarter.SeminarCareer Seminar (Required)Pass/FailThe Career Seminar (Pass/Fail) supports the development of industry professional skills, job and/or internship searches, and other in-demand areas of competency among today’s employers. Students enroll in the Career Seminar each quarter in order to engage in unique content throughout their degree program. Students with significant full-time work experience may be eligible to waive this course. 0 units, no cost.\n",
      "passage: In this course, you’ll complete a research-focused capstone project designed specifically for this joint degree. In a small group, you will collaborate with a real client on a relevant data science project across multiple sectors such as finance, entertainment, automotive, and more.\n",
      "passage: Capstone Project (1 required course)\n",
      "passage: The requiredCapstone Projectis completed over two quarters and covers research design, implementation, and writing. Full-time students start their Capstone Project in their third quarter. Part-time students generally begin the Capstone Project two quarters before their projected graduation quarter. Students choose among industry- and research-focused projects.\n",
      "passage: duties, participation expectations, and project timelines, along with responses to frequently asked questions.  Contact Alison Ossyra, aossyra@uchicago.edu, or Lauren Darga, ldarga@uchicago.edu, with any additional questions or to submit an idea for collaboration.\n",
      "For more information ...\n",
      "PRIOR TO CAPSTONE I: CALL FOR PROJECT PROPOSALS\n",
      "Proposals are reviewed and approved by the MS-ADS program team and instructors\n",
      "CAPSTONE I\n",
      "Project scope and goals defined with student team\n",
      "Data due to student team within two weeks of the start of the respective quarter\n",
      "Implementation begins\n",
      "BREAK\n",
      "Students that start Capstone I in the Spring often choose to complete an internship over the summer\n",
      "Students that start Capstone I in the Autumn will have a month break before the Winter quarter\n",
      "passage: The Master’s in Applied Data Science program accepts projects year-round for placement during the Spring and Autumn quarter, with the Spring quarter being the largest cohort. All projects must be submitted no later than one month prior to the beginning of the preferred starting quarter based on theUChicago academic calendar.Want more information? Find details and answers to FAQs in this Capstone Sponsorship Guidelines document—click hereto download the PDF.\n",
      "passage: MS in Applied Data Science\n",
      "The University of Chicago\n",
      "Capstone Project Timeline Overview\n",
      "Providing your organization’s data is a critical component of the Capstone process,\n",
      "and data confidentiality is taken very seriously. By request, students may sign a non-\n",
      "disclosure agreement (NDA) provided by your company (MS-ADS staff can offer a\n",
      "template, if needed). The NDA would be between students on the project team and\n",
      "your organization, as UChicago faculty and staff will not have access to your data.\n",
      "DATA SECURITY\n",
      "The MS-Applied Data Science program accepts project proposals year-round for placement at the\n",
      " beginning of Spring or Autumn quarters. All proposals must be submitted by mid-February (Spring) or earl\n",
      "passage: Capstone Experience\n",
      "passage: project outcomes, and data availability are the most enticing to students. \n",
      "Submitting a Problem Statement Form\n",
      "To proceed, will we need a contract with UChicago MS-ADS? \n",
      "No, the MS-ADS program does not require a legally binding agreement. We ask that you review the\n",
      " guidance shared in this document for expectations.\n",
      "What about a non-disclosure agreement? \n",
      "Students are prepared to sign a non-disclosure agreement (NDA). The NDA would be between\n",
      " students on the project team and your organization, as UChicago faculty and staff will not hav\n",
      "e access to your data. \n",
      "Is there a cost associated with being a project sponsor? \n",
      "While there is no cost owed to the MS-ADS program, we do expect that sponsors will contribute to\n",
      "passage: costs that may include mentorship time, hosting the student team for an in-person meeting, and dat\n",
      "a sharing and storage/cloud resources. Students may need access to your systems for data, and al\n",
      "so may need to have you support credits/costs within cloud platforms (e.g. AWS, Google Cloud, Azure).\n",
      "Can I submit more than one proposal? \n",
      "Yes! If your team has the capacity to mentor multiple teams at once, you are welcome to submit\n",
      " multiple proposals. \n",
      "Before We Get Started ... \n",
      "Frequently Asked Questions\n",
      "05 | 2025\n",
      "passage: . The application will also ask you to submit your resume, academic transcripts, GMAT or GRE score, essay responses, two letters of recommendation an English language assessment for non-native speaking applicants, and an application fee. We take a holistic approach during our review, meaning we consider every component of your application in our evaluation. We are hoping to see indications of a strong quantitative and technical aptitude through each of these application elements. This allows us to assess your potential for success in our program. The Booth application process goes through three rounds of admission with the first deadline usually occurring around mid-September, the second in early January, and the third and final in early April\n",
      "passage: . The goal is to provide marketers with the foundation needed to apply data analytics to real-world challenges they confront daily in their professional lives. Students will learn to identify the web analytic tool right for their specific needs; understand valid and reliable ways to collect, analyze, and visualize data from the web; and utilize data in decision making for their agencies, organizations or clients\n",
      "passage: . You do not need to submit two separate applications. Instead, you'll be asked to indicate if you are applying to a joint degree on the Booth application. You would select yes and indicate the MBA and MS in Biomedical Sciences as your program of interest. You'll then be asked to submit all required aspects of a full-time MBA application, which include a completed application, a GMAT or GRE score, education transcripts, a resume, letters of recommendation, and essays. Then you'll be asked to complete a number of supplemental questions about your interest in biomedical sciences. The application will be reviewed by both Booth and Biomedical Sciences admission staff for evaluation\n",
      "passage: Get in touch with us to submit your idea for a collaboration or ask us questions about how the partnership process works.\n",
      "passage: y September (Autumn) using the MS-Applied Data Science Problem Statement Form. The MS-Applied Data Science program accepts proj\n",
      "ect proposals year-round for placement at the beginning of Spring or Autumn quarters. All proposals must be\n",
      " submitted by mid-February (Spring) or early September (Autumn) using the MS-Applied Data Science Problem S\n",
      "tatement Form. \n",
      "In the event your proposal is submitted late and/or not matched for the upcoming quarter, you will have the option to keep the statement active for the next project start quarter. Before offering the proposal again, we will reach out to confirm that the scope of the project still aligns with your business objectives. \n",
      "Submission Process\n",
      "passage: Hear from students about their experience inCapstone Projects\n",
      "passage: As part of the I-20 or DS-2019 request process, theOffice of International Affairswill conduct a thorough review of financial documentation (e.g. bank statements, letter(s) of support, etc.) to verify that international students have access to the total cost of attendance which includes tuition, student fees, health insurance, books and supplies, and living expenses.\n",
      "passage: Request information\n",
      "passage: . It gives a rigorous methodological foundation in analytical and software tools to successfully undertake projects in Data Science. Students are exposed to concepts of exploratory analyses for uncovering and detecting patterns in multivariate data, hypothesizing and detecting relationships among variables, conducting confirmatory analyses, and building models for predictive and descriptive purposes. It will present predictive modeling in the context of balancing predictive and descriptive accuracies.CoreTime Series Analysis and ForecastingLetter GradeTime Series Analysis is a science as well as the art of making rational predictions based on previous records. It is widely used in various fields in today’s business settings.ElectiveElective 1Letter GradeElective offerings vary\n",
      "passage: . In Law courses, students will gain a legal foundation in the concepts of statutory interpretation, judicial decision-making, and legal research before expanding into an interdisciplinary exploration of how law intersects business. At Booth, students will gain a management education that is grounded in the core principles with a multidisciplinary approach to problem solving. You will evaluate problems through the fundamentals underlying business and accounting, economics, psychology, sociology, and statistics.Speaker:Now that you have a better understanding of the program itself, let's transition to talking about the JD/MBA application process, which is a little different from a traditional MBA or JD route. For both the three-year accelerated and four-year option, it is a two-step process\n",
      "passage: The program advanced my career by providing systematic learning structure, practical project experience, and inspiring discussion environment. The degree also helped me open doors to new opportunities.\n",
      "passage: Please review theHow to Applypage.\n",
      "passage: . We've also learned a great deal from each other along the way! [Founder & CEO] and I are really looki\n",
      "ng forward to continuing our work together in the Autumn and seeing where our project can go next.\n",
      "What Makes a “Good” Problem Statement? \n",
      "The exciting field of data science is constantly evolving, and students that\n",
      " enter  the  MS  in  Applied  Data  Science  program  have  a  wide  variety  o\n",
      "f interests. Projects that resonate with students can vary by quarter. That sai\n",
      "d, there are a few recommendations we can offer to make projects compell\n",
      "ing to all cohorts: \n",
      "Prepare a rich data set deliverable within two weeks of the project start\n",
      "Ensure this is a project of scale ... a team of 3-4 students will spend\n",
      " roughly 40 hours per week over 20 weeks on this project\n",
      "passage: Upcoming Events & Deadlines\n",
      "passage: Professor’s experience, Curriculum, The University ranking position\n",
      "passage: Statistics (PhD)\n",
      "\n",
      "    [QUESTION]\n",
      "    query: Can you provide information about the capstone project project?\n",
      "\n",
      "    Summarize your answers that are easy to follow. Feel free to use a combination of paragraph and bullet points for your answers\n",
      "    \n"
     ]
    }
   ],
   "source": [
    "# Define a new query\n",
    "QUERIES = {\"1\": \"What are the core courses in the MS in Applied Data Science program?\",\n",
    " \"2\" : \"What are the admission requirements for the MS in Applied Data Science program?\",\n",
    " \"3\" : \"Can you provide information about the capstone project?\"\n",
    "}\n",
    "\n",
    "query_choice = input(\"Enter number of your query choice\")\n",
    "selected_query = QUERIES.get(query_choice)\n",
    "\n",
    "rag_prompt = create_rag_prompt(selected_query, \n",
    "                   db_retriever = db,\n",
    "                   embedder = embedder, \n",
    "                   k_docs = 10, \n",
    "                   lambda_mult = 0.3,\n",
    "                   query_prefix = 'query: ',\n",
    "                   doc_prefix = 'passage: ',\n",
    "                   use_query_expansion = True)"
   ]
  },
  {
   "cell_type": "code",
   "execution_count": 40,
   "id": "57ea45f1-974b-4654-bae4-16d3e38d0161",
   "metadata": {
    "tags": []
   },
   "outputs": [],
   "source": [
    "# !pip install huggingface_hub\n",
    "# huggingface-cli login"
   ]
  },
  {
   "cell_type": "code",
   "execution_count": 41,
   "id": "815be6a2-10b9-40d5-b493-5c17e3bd3339",
   "metadata": {
    "tags": []
   },
   "outputs": [],
   "source": [
    "from transformers import AutoTokenizer, AutoModelForSeq2SeqLM, AutoModelForCausalLM, pipeline\n",
    "from langchain.llms import HuggingFacePipeline\n",
    "\n",
    "MODELS = {\"1\": {\"model_name\":\"google/flan-t5-base\", \"model_type\": \"encoder-decoder\"},\n",
    "          \"2\": {\"model_name\":\"mistralai/Mistral-7B-Instruct-v0.3\", \"model_type\": \"decoder only\"},\n",
    "          \"3\": {\"model_name\":\"meta-llama/Llama-2-7b-hf\", \"model_type\": \"decoder only\"}}\n",
    "\n",
    "MODEL_CONFIG = {\"encoder-decoder\": {\"model_cls\": \"text2text-generation\",\n",
    "                                    \"pipeline\": AutoModelForSeq2SeqLM},\n",
    "                \"decoder only\": {\"model_cls\": \"text-generation\", \n",
    "                                 \"pipeline\": AutoModelForCausalLM}}"
   ]
  },
  {
   "cell_type": "code",
   "execution_count": 42,
   "id": "5c14a451-6e04-4d6e-b95a-7dd4d5c7d448",
   "metadata": {
    "tags": []
   },
   "outputs": [],
   "source": [
    "def load_llm_model(selected_model: dict,\n",
    "                   max_tokens: int = 1024):\n",
    "    model_name = selected_model['model_name']\n",
    "    model_type = selected_model['model_type']\n",
    "    \n",
    "    model_config_cls = MODEL_CONFIG[model_type]['model_cls']\n",
    "    model_config_pipeline = MODEL_CONFIG[model_type]['pipeline']\n",
    "    \n",
    "    tokenizer = AutoTokenizer.from_pretrained(model_name)\n",
    "    model = model_config_pipeline.from_pretrained(model_name,\n",
    "                                            device_map=\"auto\",           \n",
    "                                            torch_dtype=\"auto\")\n",
    "    \n",
    "    pipe = pipeline(model_config_cls,\n",
    "                    model = model,\n",
    "                    tokenizer = tokenizer,\n",
    "                    max_new_tokens = max_tokens)\n",
    "    llm = HuggingFacePipeline(pipeline = pipe)\n",
    "    \n",
    "    return llm"
   ]
  },
  {
   "cell_type": "code",
   "execution_count": 43,
   "id": "da5a0fdc-a34a-4611-89ea-bd234052b5b7",
   "metadata": {
    "tags": []
   },
   "outputs": [],
   "source": [
    "def main():\n",
    "    choice = input(\"Enter number of your LLM model choice\")\n",
    "    selected_model = MODELS.get(choice)\n",
    "    \n",
    "    llm = load_llm_model(selected_model)\n",
    "    \n",
    "    query_choice = input(\"Enter number of your query choice: \")\n",
    "    selected_query = QUERIES.get(query_choice)\n",
    "    \n",
    "    rag_prompt = create_rag_prompt(selected_query, \n",
    "                   db_retriever = db,\n",
    "                   embedder = embedder, \n",
    "                   k_docs = 10, \n",
    "                   lambda_mult = 0.3,\n",
    "                   query_prefix = 'query: ',\n",
    "                   doc_prefix = 'passage: ',\n",
    "                   use_query_expansion = True\n",
    "                   )\n",
    "    \n",
    "    response = llm(rag_prompt)\n",
    "    print(\"\\n=== Generated Answer ===\")\n",
    "    print(response)"
   ]
  },
  {
   "cell_type": "markdown",
   "id": "47c28735-21d4-4b52-a506-1835e4f3a7b8",
   "metadata": {},
   "source": [
    "## Question 1: What are the core courses in the MS in Applied Data Science program?"
   ]
  },
  {
   "cell_type": "code",
   "execution_count": 57,
   "id": "ba1a9443-0db2-4e10-9ae8-08274a843152",
   "metadata": {
    "tags": []
   },
   "outputs": [],
   "source": [
    "import torch\n",
    "torch.cuda.empty_cache()\n",
    "torch.cuda.reset_peak_memory_stats()"
   ]
  },
  {
   "cell_type": "code",
   "execution_count": 58,
   "id": "1b45f47e-ddf9-476c-aa8e-e8b0554b48dc",
   "metadata": {
    "tags": []
   },
   "outputs": [
    {
     "name": "stdin",
     "output_type": "stream",
     "text": [
      "Enter number of your LLM model choice 2\n"
     ]
    },
    {
     "data": {
      "application/vnd.jupyter.widget-view+json": {
       "model_id": "370dfb7fce7c49859666b807f5cf0249",
       "version_major": 2,
       "version_minor": 0
      },
      "text/plain": [
       "Loading checkpoint shards:   0%|          | 0/3 [00:00<?, ?it/s]"
      ]
     },
     "metadata": {},
     "output_type": "display_data"
    },
    {
     "name": "stderr",
     "output_type": "stream",
     "text": [
      "Device set to use cuda:0\n"
     ]
    },
    {
     "name": "stdin",
     "output_type": "stream",
     "text": [
      "Enter number of your query choice:  1\n"
     ]
    },
    {
     "name": "stderr",
     "output_type": "stream",
     "text": [
      "Setting `pad_token_id` to `eos_token_id`:2 for open-end generation.\n"
     ]
    },
    {
     "name": "stdout",
     "output_type": "stream",
     "text": [
      "=== RAG Augmented Prompt ===\n",
      "\n",
      "    You are an educational assistant. \n",
      "    Your task is to extract information related to Master of Science in Applied Data Science program, such as admission requirement, curriculum, faculties, career outcomes, and etc.\n",
      "    Use the following context to answer the question.\n",
      "\n",
      "    [CONTEXT]\n",
      "    passage: . These methods allowed working with variables that span a broader variety of domains and probability distributions. Besides, methods for the analysis of general associations were developed that are different from the Pearson correlation.Machine Learning IThis course is aimed at providing students an introduction to machine learning with data mining techniques and algorithms. It gives a rigorous methodological foundation in analytical and software tools to successfully undertake projects in Data Science. Students are exposed to concepts of exploratory analyses for uncovering and detecting patterns in multivariate data, hypothesizing and detecting relationships among variables, conducting confirmatory analyses, and building models for predictive and descriptive purposes\n",
      "passage: .Data Science Capstone ProjectThe required Capstone Project is completed over two quarters and covers research design, implementation, and writing.Full-time students start their capstone project in their third quarter. Part-time students generally begin the capstone project in their fifth quarter.\n",
      "passage: Time Series Analysis and ForecastingTime Series Analysis is a science as well as the art of making rational predictions based on previous records. It is widely used in various fields in today’s business settings.Statistical Models for Data ScienceIn a traditional linear model, the observed response follows a normal distribution, and the expected response value is a linear combination of the predictors.  Since Carl Friedrich Gauss (1777-1855) and Adrien-Marie Legendre (1752-1833) created this linear model framework in the early 1800s, the “Linear Normal” assumption has been the norm in statistics/data science for almost two centuries.  New methods based on probability distributions other than Gaussian appeared only in the second half of the twentieth century\n",
      "passage: .Data Engineering Platforms for Analytics or Big Data and Cloud ComputingData Engineering Platforms teaches effective data engineering—an essential first step in building an analytics-driven competitive advantage in the market.Big Data and Cloud Computing teaches students how to approach big data and large-scale machine learning applications. There is no single definition of big data and multiple emerging software packages exist to work with it, and we will cover the most popular approaches\n",
      "passage: .Leadership and Consulting for Data ScienceThe Leadership and Consulting for Data Scientist course is focused on:• Learning techniques and proven methods to effectively grasp the business domain including organizational dynamics of consultancies and client organizations• Developing relevant solutions to enterprise problems using the sampling methods, traditional statistical techniques and modern machine learning models that deliver value to the organization• Practicing successful project delivery through effective data discovery, influential team membership and leadership, project management, and communication at every stageThis course will not only make you a better data scientist; it will make you and your analyses more approachable, more persuasive, and ultimately more successful\n",
      "passage: . It will present predictive modeling in the context of balancing predictive and descriptive accuracies.Machine Learning IIThe objective of this course is three-folds–first, to extend student understanding of predictive modeling with machine learning concepts and methodologies from Machine Learning 1 into the realm of Deep Learning and Generative AI. Second, to develop the ability to apply those concepts and methodologies to diverse practical applications, evaluate the results and recommend the next best action. Third, to discuss and understand state-of-the machine learning and deep learning research and development and their applications\n",
      "\n",
      "    [QUESTION]\n",
      "    query: What are the core courses in the MS in Applied Data Science program?\n",
      "\n",
      "    Provide your answer as a single concise paragraph or as a bulleted list (no prefixes or numbering).\n",
      "    \n",
      "\n",
      "=== Generated Answer ===\n",
      "\n",
      "    You are an educational assistant. \n",
      "    Your task is to extract information related to Master of Science in Applied Data Science program, such as admission requirement, curriculum, faculties, career outcomes, and etc.\n",
      "    Use the following context to answer the question.\n",
      "\n",
      "    [CONTEXT]\n",
      "    passage: . These methods allowed working with variables that span a broader variety of domains and probability distributions. Besides, methods for the analysis of general associations were developed that are different from the Pearson correlation.Machine Learning IThis course is aimed at providing students an introduction to machine learning with data mining techniques and algorithms. It gives a rigorous methodological foundation in analytical and software tools to successfully undertake projects in Data Science. Students are exposed to concepts of exploratory analyses for uncovering and detecting patterns in multivariate data, hypothesizing and detecting relationships among variables, conducting confirmatory analyses, and building models for predictive and descriptive purposes\n",
      "passage: .Data Science Capstone ProjectThe required Capstone Project is completed over two quarters and covers research design, implementation, and writing.Full-time students start their capstone project in their third quarter. Part-time students generally begin the capstone project in their fifth quarter.\n",
      "passage: Time Series Analysis and ForecastingTime Series Analysis is a science as well as the art of making rational predictions based on previous records. It is widely used in various fields in today’s business settings.Statistical Models for Data ScienceIn a traditional linear model, the observed response follows a normal distribution, and the expected response value is a linear combination of the predictors.  Since Carl Friedrich Gauss (1777-1855) and Adrien-Marie Legendre (1752-1833) created this linear model framework in the early 1800s, the “Linear Normal” assumption has been the norm in statistics/data science for almost two centuries.  New methods based on probability distributions other than Gaussian appeared only in the second half of the twentieth century\n",
      "passage: .Data Engineering Platforms for Analytics or Big Data and Cloud ComputingData Engineering Platforms teaches effective data engineering—an essential first step in building an analytics-driven competitive advantage in the market.Big Data and Cloud Computing teaches students how to approach big data and large-scale machine learning applications. There is no single definition of big data and multiple emerging software packages exist to work with it, and we will cover the most popular approaches\n",
      "passage: .Leadership and Consulting for Data ScienceThe Leadership and Consulting for Data Scientist course is focused on:• Learning techniques and proven methods to effectively grasp the business domain including organizational dynamics of consultancies and client organizations• Developing relevant solutions to enterprise problems using the sampling methods, traditional statistical techniques and modern machine learning models that deliver value to the organization• Practicing successful project delivery through effective data discovery, influential team membership and leadership, project management, and communication at every stageThis course will not only make you a better data scientist; it will make you and your analyses more approachable, more persuasive, and ultimately more successful\n",
      "passage: . It will present predictive modeling in the context of balancing predictive and descriptive accuracies.Machine Learning IIThe objective of this course is three-folds–first, to extend student understanding of predictive modeling with machine learning concepts and methodologies from Machine Learning 1 into the realm of Deep Learning and Generative AI. Second, to develop the ability to apply those concepts and methodologies to diverse practical applications, evaluate the results and recommend the next best action. Third, to discuss and understand state-of-the machine learning and deep learning research and development and their applications\n",
      "\n",
      "    [QUESTION]\n",
      "    query: What are the core courses in the MS in Applied Data Science program?\n",
      "\n",
      "    Provide your answer as a single concise paragraph or as a bulleted list (no prefixes or numbering).\n",
      "    1. Machine Learning I\n",
      "    2. Data Science Capstone Project\n",
      "    3. Time Series Analysis and Forecasting\n",
      "    4. Statistical Models for Data Science\n",
      "    5. Data Engineering Platforms for Analytics or Big Data and Cloud Computing\n",
      "    6. Leadership and Consulting for Data Science\n",
      "    7. Machine Learning II\n"
     ]
    }
   ],
   "source": [
    "if __name__ == \"__main__\":\n",
    "    main()"
   ]
  },
  {
   "cell_type": "markdown",
   "id": "d7ceed9e-b44e-4a1f-8055-c5dd8ac1b7bb",
   "metadata": {},
   "source": [
    "## Question 2: What are the admission requirements for the MS in Applied Data Science program?"
   ]
  },
  {
   "cell_type": "code",
   "execution_count": 55,
   "id": "369bec55-c254-416c-9c43-3591fa08e167",
   "metadata": {
    "tags": []
   },
   "outputs": [
    {
     "name": "stdin",
     "output_type": "stream",
     "text": [
      "Enter number of your LLM model choice 2\n"
     ]
    },
    {
     "data": {
      "application/vnd.jupyter.widget-view+json": {
       "model_id": "1a028a38b51c4966a85392f97af876d9",
       "version_major": 2,
       "version_minor": 0
      },
      "text/plain": [
       "Loading checkpoint shards:   0%|          | 0/3 [00:00<?, ?it/s]"
      ]
     },
     "metadata": {},
     "output_type": "display_data"
    },
    {
     "name": "stderr",
     "output_type": "stream",
     "text": [
      "Some parameters are on the meta device because they were offloaded to the cpu.\n",
      "Device set to use cuda:0\n"
     ]
    },
    {
     "name": "stdin",
     "output_type": "stream",
     "text": [
      "Enter number of your query choice:  2\n"
     ]
    },
    {
     "name": "stderr",
     "output_type": "stream",
     "text": [
      "Setting `pad_token_id` to `eos_token_id`:2 for open-end generation.\n"
     ]
    },
    {
     "name": "stdout",
     "output_type": "stream",
     "text": [
      "=== RAG Augmented Prompt ===\n",
      "\n",
      "    You are an educational assistant. \n",
      "    Your task is to extract information related to Master of Science in Applied Data Science program, such as admission requirement, curriculum, faculties, career outcomes, and etc.\n",
      "    Use the following context to answer the question.\n",
      "\n",
      "    [CONTEXT]\n",
      "    passage: The MS in Applied Data Science requires short, recorded videos to a given prompt(s) within the application. These short videos give applicants an alternative means to outline why they are a strong fit for the MS in Applied Data Science program.\n",
      "passage: The MS in Applied Data Science program requires two letters of recommendation. Westrongly recommendthat at least one letter is written by someone such as a direct manager/supervisor or internship supervisor who can attest to skills you demonstrated or gained though a professional workplace experience (e.g., leadership, teamwork, collaboration, initiative, management, other).\n",
      "passage: The University of ChicagoAttention: MS in Applied Data Science Admissions455 N Cityfront Plaza Dr., Suite 950Chicago, Illinois 60611\n",
      "passage: International students are also welcome to apply to our Master’s in Applied Data Science Online program, which does not require citizenship or permanent resident status and does not provide visa sponsorship.\n",
      "passage: Minimum scores for the Master’s in Applied Data Science program: TOEFL, 102 (no subscore requirement); IELTS, 7 (no subscore requirement).\n",
      "passage: The Master’s in Applied Data Science admissions committee will review your resume. We encourage you to take the time to carefully update the resume you submit to us.\n",
      "passage: Work experience, including internships and part-time positions in the analytics/data science space\n",
      "passage: The candidate statement is a key part of your application. The admissions committee pays careful attention to how you understand and present your aims and qualifications. The application will include a prompt with detailed instructions on the information the program is looking for in your candidate statement.\n",
      "passage: When applying to the program, only yourunofficialtranscripts are required. If you are admitted into the program, then official transcripts must be sent to the following (note a bachelor’s degree is required to apply to the program):\n",
      "passage: Manage different data types\n",
      "passage: There is a $90 non-refundable application fee. For questions regarding an application fee waiver, please refer to thePhysical Sciences Division fee waiver policy.\n",
      "passage: The application portal for 2026 entrance will open in September 2025.Be the first to knowwhen the new application opens, view other keyEvents & Deadlines.\n",
      "passage: Use your function for data analysis\n",
      "passage: Undergraduate or graduate GPA\n",
      "passage: Please have your institution send your e-transcripts directly to:\n",
      "passage: Ingest data from csv\n",
      "passage: *Theapplication portalmay close early if the cohort is filled.\n",
      "passage: Important to Include:\n",
      "\n",
      "    [QUESTION]\n",
      "    query: What are the admission requirements for the MS in Applied Data Science program?\n",
      "\n",
      "    Summarize your answers that are easy to follow. Feel free to use a combination of paragraph and bullet points for your answers\n",
      "    \n",
      "\n",
      "=== Generated Answer ===\n",
      "\n",
      "    You are an educational assistant. \n",
      "    Your task is to extract information related to Master of Science in Applied Data Science program, such as admission requirement, curriculum, faculties, career outcomes, and etc.\n",
      "    Use the following context to answer the question.\n",
      "\n",
      "    [CONTEXT]\n",
      "    passage: The MS in Applied Data Science requires short, recorded videos to a given prompt(s) within the application. These short videos give applicants an alternative means to outline why they are a strong fit for the MS in Applied Data Science program.\n",
      "passage: The MS in Applied Data Science program requires two letters of recommendation. Westrongly recommendthat at least one letter is written by someone such as a direct manager/supervisor or internship supervisor who can attest to skills you demonstrated or gained though a professional workplace experience (e.g., leadership, teamwork, collaboration, initiative, management, other).\n",
      "passage: The University of ChicagoAttention: MS in Applied Data Science Admissions455 N Cityfront Plaza Dr., Suite 950Chicago, Illinois 60611\n",
      "passage: International students are also welcome to apply to our Master’s in Applied Data Science Online program, which does not require citizenship or permanent resident status and does not provide visa sponsorship.\n",
      "passage: Minimum scores for the Master’s in Applied Data Science program: TOEFL, 102 (no subscore requirement); IELTS, 7 (no subscore requirement).\n",
      "passage: The Master’s in Applied Data Science admissions committee will review your resume. We encourage you to take the time to carefully update the resume you submit to us.\n",
      "passage: Work experience, including internships and part-time positions in the analytics/data science space\n",
      "passage: The candidate statement is a key part of your application. The admissions committee pays careful attention to how you understand and present your aims and qualifications. The application will include a prompt with detailed instructions on the information the program is looking for in your candidate statement.\n",
      "passage: When applying to the program, only yourunofficialtranscripts are required. If you are admitted into the program, then official transcripts must be sent to the following (note a bachelor’s degree is required to apply to the program):\n",
      "passage: Manage different data types\n",
      "passage: There is a $90 non-refundable application fee. For questions regarding an application fee waiver, please refer to thePhysical Sciences Division fee waiver policy.\n",
      "passage: The application portal for 2026 entrance will open in September 2025.Be the first to knowwhen the new application opens, view other keyEvents & Deadlines.\n",
      "passage: Use your function for data analysis\n",
      "passage: Undergraduate or graduate GPA\n",
      "passage: Please have your institution send your e-transcripts directly to:\n",
      "passage: Ingest data from csv\n",
      "passage: *Theapplication portalmay close early if the cohort is filled.\n",
      "passage: Important to Include:\n",
      "\n",
      "    [QUESTION]\n",
      "    query: What are the admission requirements for the MS in Applied Data Science program?\n",
      "\n",
      "    Summarize your answers that are easy to follow. Feel free to use a combination of paragraph and bullet points for your answers\n",
      "    1. Applicants are required to submit short recorded videos outlining why they are a strong fit for the program.\n",
      "    2. Two letters of recommendation are required, at least one of which should be written by a direct manager/supervisor or internship supervisor.\n",
      "    3. The University of Chicago's MS in Applied Data Science Admissions office is located at 455 N Cityfront Plaza Dr., Suite 950, Chicago, Illinois 60611.\n",
      "    4. International students are welcome to apply, but the program does not provide visa sponsorship.\n",
      "    5. Minimum scores for English language proficiency tests are: TOEFL, 102 (no subscore requirement); IELTS, 7 (no subscore requirement).\n",
      "    6. The admissions committee will review the applicant's resume, so it's encouraged to update it carefully.\n",
      "    7. Work experience, including internships and part-time positions in the analytics/data science space, is important.\n",
      "    8. The candidate statement is a key part of the application, and the program provides a prompt with detailed instructions on what they are looking for in the statement.\n",
      "    9. Only unofficial transcripts are required during the application process, but official transcripts must be sent if admitted into the program.\n",
      "    10. A $90 non-refundable application fee applies, and questions about fee waivers should be directed to the Physical Sciences Division fee waiver policy.\n",
      "    11. The application portal for 2026 entrance will open in September 2025.\n",
      "    12. The program requires a bachelor's degree for application.\n",
      "    13. The application portal may close early if the cohort is filled.\n",
      "    14. Important to Include:\n",
      "        - Undergraduate or graduate GPA\n",
      "        - The ability to manage different data types\n",
      "        - The ability to use functions for data analysis\n",
      "        - The ability to ingest data from CSV files\n",
      "        - The applicant's institution should send their e-transcripts directly to the specified address.\n"
     ]
    }
   ],
   "source": [
    "if __name__ == \"__main__\":\n",
    "    main()"
   ]
  },
  {
   "cell_type": "markdown",
   "id": "8dbf5c30-7f26-4267-a616-892885ebe58a",
   "metadata": {},
   "source": [
    "## Question 3: Can you provide information about the capstone project??"
   ]
  },
  {
   "cell_type": "code",
   "execution_count": 63,
   "id": "14c0fff1-4da5-430a-af8f-1f6348998da6",
   "metadata": {
    "tags": []
   },
   "outputs": [
    {
     "name": "stdin",
     "output_type": "stream",
     "text": [
      "Enter number of your LLM model choice 2\n"
     ]
    },
    {
     "data": {
      "application/vnd.jupyter.widget-view+json": {
       "model_id": "c5b53fc3f41f4080a6d4fa3743fd2703",
       "version_major": 2,
       "version_minor": 0
      },
      "text/plain": [
       "Loading checkpoint shards:   0%|          | 0/3 [00:00<?, ?it/s]"
      ]
     },
     "metadata": {},
     "output_type": "display_data"
    },
    {
     "name": "stderr",
     "output_type": "stream",
     "text": [
      "Some parameters are on the meta device because they were offloaded to the cpu.\n",
      "Device set to use cuda:0\n"
     ]
    },
    {
     "name": "stdin",
     "output_type": "stream",
     "text": [
      "Enter number of your query choice:  3\n"
     ]
    },
    {
     "name": "stderr",
     "output_type": "stream",
     "text": [
      "Setting `pad_token_id` to `eos_token_id`:2 for open-end generation.\n"
     ]
    },
    {
     "name": "stdout",
     "output_type": "stream",
     "text": [
      "=== RAG Augmented Prompt ===\n",
      "\n",
      "    You are an educational assistant. \n",
      "    Your task is to extract information related to Master of Science in Applied Data Science program, such as admission requirement, curriculum, faculties, career outcomes, and etc.\n",
      "    Use the following context to answer the question.\n",
      "\n",
      "    [CONTEXT]\n",
      "    passage: .Data Science Capstone ProjectThe required Capstone Project is completed over two quarters and covers research design, implementation, and writing.Full-time students start their capstone project in their third quarter. Part-time students generally begin the capstone project in their fifth quarter.\n",
      "passage: . A list of sample electives (subject to change) appear at the bottom of theIn-PersonandOnline Programpages.CapstoneData Science Capstone ProjectLetter GradeThe required Capstone Project is completed over two quarters and covers research design, implementation, and writing.Full-time students start their capstone project in their third quarter. Part-time students generally begin the capstone project in their fifth quarter.SeminarCareer Seminar (Required)Pass/FailThe Career Seminar (Pass/Fail) supports the development of industry professional skills, job and/or internship searches, and other in-demand areas of competency among today’s employers. Students enroll in the Career Seminar each quarter in order to engage in unique content throughout their degree program\n",
      "passage: The required Capstone Project is completed over two quarters and covers research design, implementation, and writing.Full-time students start their capstone project in their third quarter. Part-time students generally begin the capstone project in their fifth quarter.\n",
      "passage: CONCLUSION: CAPSTONE SHOWCASE\n",
      "Project outcomes are virtually presented to the Applied Data Science community \n",
      "CAPSTONE II\n",
      "Implementation ends\n",
      "Project summary and research paper are finalized\n",
      "Capstone projects span two academic quarters and conclude with a virtual Showcase. The projects are guided by this outline and more detailed schedule on page 4: Capstone projects span  two acad emic qu arters a nd conclud e wi th a virt ual\n",
      " Showcase. The projects are guided by this outline and more detailed schedule on page 4: \n",
      "Capstone I\n",
      "Break\n",
      "Capstone II\n",
      "Capstone\n",
      " Showcase\n",
      "Project\n",
      " Timeline\n",
      "02 | 2025\n",
      "passage: .CapstoneData Science Capstone ProjectLetter GradeThe required Capstone Project is completed over two quarters and covers research design, implementation, and writing.Full-time students start their capstone project in their third quarter. Part-time students generally begin the capstone project in their fifth quarter.SeminarCareer Seminar (Required)Pass/FailThe Career Seminar (Pass/Fail) supports the development of industry professional skills, job and/or internship searches, and other in-demand areas of competency among today’s employers. Students enroll in the Career Seminar each quarter in order to engage in unique content throughout their degree program. Students with significant full-time work experience may be eligible to waive this course. 0 units, no cost.\n",
      "passage: In this course, you’ll complete a research-focused capstone project designed specifically for this joint degree. In a small group, you will collaborate with a real client on a relevant data science project across multiple sectors such as finance, entertainment, automotive, and more.\n",
      "passage: Capstone Project (1 required course)\n",
      "passage: The requiredCapstone Projectis completed over two quarters and covers research design, implementation, and writing. Full-time students start their Capstone Project in their third quarter. Part-time students generally begin the Capstone Project two quarters before their projected graduation quarter. Students choose among industry- and research-focused projects.\n",
      "passage: duties, participation expectations, and project timelines, along with responses to frequently asked questions.  Contact Alison Ossyra, aossyra@uchicago.edu, or Lauren Darga, ldarga@uchicago.edu, with any additional questions or to submit an idea for collaboration.\n",
      "For more information ...\n",
      "PRIOR TO CAPSTONE I: CALL FOR PROJECT PROPOSALS\n",
      "Proposals are reviewed and approved by the MS-ADS program team and instructors\n",
      "CAPSTONE I\n",
      "Project scope and goals defined with student team\n",
      "Data due to student team within two weeks of the start of the respective quarter\n",
      "Implementation begins\n",
      "BREAK\n",
      "Students that start Capstone I in the Spring often choose to complete an internship over the summer\n",
      "Students that start Capstone I in the Autumn will have a month break before the Winter quarter\n",
      "passage: The Master’s in Applied Data Science program accepts projects year-round for placement during the Spring and Autumn quarter, with the Spring quarter being the largest cohort. All projects must be submitted no later than one month prior to the beginning of the preferred starting quarter based on theUChicago academic calendar.Want more information? Find details and answers to FAQs in this Capstone Sponsorship Guidelines document—click hereto download the PDF.\n",
      "passage: MS in Applied Data Science\n",
      "The University of Chicago\n",
      "Capstone Project Timeline Overview\n",
      "Providing your organization’s data is a critical component of the Capstone process,\n",
      "and data confidentiality is taken very seriously. By request, students may sign a non-\n",
      "disclosure agreement (NDA) provided by your company (MS-ADS staff can offer a\n",
      "template, if needed). The NDA would be between students on the project team and\n",
      "your organization, as UChicago faculty and staff will not have access to your data.\n",
      "DATA SECURITY\n",
      "The MS-Applied Data Science program accepts project proposals year-round for placement at the\n",
      " beginning of Spring or Autumn quarters. All proposals must be submitted by mid-February (Spring) or earl\n",
      "passage: Capstone Experience\n",
      "passage: project outcomes, and data availability are the most enticing to students. \n",
      "Submitting a Problem Statement Form\n",
      "To proceed, will we need a contract with UChicago MS-ADS? \n",
      "No, the MS-ADS program does not require a legally binding agreement. We ask that you review the\n",
      " guidance shared in this document for expectations.\n",
      "What about a non-disclosure agreement? \n",
      "Students are prepared to sign a non-disclosure agreement (NDA). The NDA would be between\n",
      " students on the project team and your organization, as UChicago faculty and staff will not hav\n",
      "e access to your data. \n",
      "Is there a cost associated with being a project sponsor? \n",
      "While there is no cost owed to the MS-ADS program, we do expect that sponsors will contribute to\n",
      "passage: costs that may include mentorship time, hosting the student team for an in-person meeting, and dat\n",
      "a sharing and storage/cloud resources. Students may need access to your systems for data, and al\n",
      "so may need to have you support credits/costs within cloud platforms (e.g. AWS, Google Cloud, Azure).\n",
      "Can I submit more than one proposal? \n",
      "Yes! If your team has the capacity to mentor multiple teams at once, you are welcome to submit\n",
      " multiple proposals. \n",
      "Before We Get Started ... \n",
      "Frequently Asked Questions\n",
      "05 | 2025\n",
      "passage: . The application will also ask you to submit your resume, academic transcripts, GMAT or GRE score, essay responses, two letters of recommendation an English language assessment for non-native speaking applicants, and an application fee. We take a holistic approach during our review, meaning we consider every component of your application in our evaluation. We are hoping to see indications of a strong quantitative and technical aptitude through each of these application elements. This allows us to assess your potential for success in our program. The Booth application process goes through three rounds of admission with the first deadline usually occurring around mid-September, the second in early January, and the third and final in early April\n",
      "passage: . The goal is to provide marketers with the foundation needed to apply data analytics to real-world challenges they confront daily in their professional lives. Students will learn to identify the web analytic tool right for their specific needs; understand valid and reliable ways to collect, analyze, and visualize data from the web; and utilize data in decision making for their agencies, organizations or clients\n",
      "passage: . You do not need to submit two separate applications. Instead, you'll be asked to indicate if you are applying to a joint degree on the Booth application. You would select yes and indicate the MBA and MS in Biomedical Sciences as your program of interest. You'll then be asked to submit all required aspects of a full-time MBA application, which include a completed application, a GMAT or GRE score, education transcripts, a resume, letters of recommendation, and essays. Then you'll be asked to complete a number of supplemental questions about your interest in biomedical sciences. The application will be reviewed by both Booth and Biomedical Sciences admission staff for evaluation\n",
      "passage: Get in touch with us to submit your idea for a collaboration or ask us questions about how the partnership process works.\n",
      "passage: y September (Autumn) using the MS-Applied Data Science Problem Statement Form. The MS-Applied Data Science program accepts proj\n",
      "ect proposals year-round for placement at the beginning of Spring or Autumn quarters. All proposals must be\n",
      " submitted by mid-February (Spring) or early September (Autumn) using the MS-Applied Data Science Problem S\n",
      "tatement Form. \n",
      "In the event your proposal is submitted late and/or not matched for the upcoming quarter, you will have the option to keep the statement active for the next project start quarter. Before offering the proposal again, we will reach out to confirm that the scope of the project still aligns with your business objectives. \n",
      "Submission Process\n",
      "passage: Hear from students about their experience inCapstone Projects\n",
      "passage: As part of the I-20 or DS-2019 request process, theOffice of International Affairswill conduct a thorough review of financial documentation (e.g. bank statements, letter(s) of support, etc.) to verify that international students have access to the total cost of attendance which includes tuition, student fees, health insurance, books and supplies, and living expenses.\n",
      "passage: Request information\n",
      "passage: . It gives a rigorous methodological foundation in analytical and software tools to successfully undertake projects in Data Science. Students are exposed to concepts of exploratory analyses for uncovering and detecting patterns in multivariate data, hypothesizing and detecting relationships among variables, conducting confirmatory analyses, and building models for predictive and descriptive purposes. It will present predictive modeling in the context of balancing predictive and descriptive accuracies.CoreTime Series Analysis and ForecastingLetter GradeTime Series Analysis is a science as well as the art of making rational predictions based on previous records. It is widely used in various fields in today’s business settings.ElectiveElective 1Letter GradeElective offerings vary\n",
      "passage: . In Law courses, students will gain a legal foundation in the concepts of statutory interpretation, judicial decision-making, and legal research before expanding into an interdisciplinary exploration of how law intersects business. At Booth, students will gain a management education that is grounded in the core principles with a multidisciplinary approach to problem solving. You will evaluate problems through the fundamentals underlying business and accounting, economics, psychology, sociology, and statistics.Speaker:Now that you have a better understanding of the program itself, let's transition to talking about the JD/MBA application process, which is a little different from a traditional MBA or JD route. For both the three-year accelerated and four-year option, it is a two-step process\n",
      "passage: The program advanced my career by providing systematic learning structure, practical project experience, and inspiring discussion environment. The degree also helped me open doors to new opportunities.\n",
      "passage: Please review theHow to Applypage.\n",
      "passage: . We've also learned a great deal from each other along the way! [Founder & CEO] and I are really looki\n",
      "ng forward to continuing our work together in the Autumn and seeing where our project can go next.\n",
      "What Makes a “Good” Problem Statement? \n",
      "The exciting field of data science is constantly evolving, and students that\n",
      " enter  the  MS  in  Applied  Data  Science  program  have  a  wide  variety  o\n",
      "f interests. Projects that resonate with students can vary by quarter. That sai\n",
      "d, there are a few recommendations we can offer to make projects compell\n",
      "ing to all cohorts: \n",
      "Prepare a rich data set deliverable within two weeks of the project start\n",
      "Ensure this is a project of scale ... a team of 3-4 students will spend\n",
      " roughly 40 hours per week over 20 weeks on this project\n",
      "passage: Upcoming Events & Deadlines\n",
      "passage: Professor’s experience, Curriculum, The University ranking position\n",
      "passage: Statistics (PhD)\n",
      "\n",
      "    [QUESTION]\n",
      "    query: Can you provide information about the capstone project project?\n",
      "\n",
      "    Summarize your answers that are easy to follow. Feel free to use a combination of paragraph and bullet points for your answers\n",
      "    \n",
      "\n",
      "=== Generated Answer ===\n",
      "\n",
      "    You are an educational assistant. \n",
      "    Your task is to extract information related to Master of Science in Applied Data Science program, such as admission requirement, curriculum, faculties, career outcomes, and etc.\n",
      "    Use the following context to answer the question.\n",
      "\n",
      "    [CONTEXT]\n",
      "    passage: .Data Science Capstone ProjectThe required Capstone Project is completed over two quarters and covers research design, implementation, and writing.Full-time students start their capstone project in their third quarter. Part-time students generally begin the capstone project in their fifth quarter.\n",
      "passage: . A list of sample electives (subject to change) appear at the bottom of theIn-PersonandOnline Programpages.CapstoneData Science Capstone ProjectLetter GradeThe required Capstone Project is completed over two quarters and covers research design, implementation, and writing.Full-time students start their capstone project in their third quarter. Part-time students generally begin the capstone project in their fifth quarter.SeminarCareer Seminar (Required)Pass/FailThe Career Seminar (Pass/Fail) supports the development of industry professional skills, job and/or internship searches, and other in-demand areas of competency among today’s employers. Students enroll in the Career Seminar each quarter in order to engage in unique content throughout their degree program\n",
      "passage: The required Capstone Project is completed over two quarters and covers research design, implementation, and writing.Full-time students start their capstone project in their third quarter. Part-time students generally begin the capstone project in their fifth quarter.\n",
      "passage: CONCLUSION: CAPSTONE SHOWCASE\n",
      "Project outcomes are virtually presented to the Applied Data Science community \n",
      "CAPSTONE II\n",
      "Implementation ends\n",
      "Project summary and research paper are finalized\n",
      "Capstone projects span two academic quarters and conclude with a virtual Showcase. The projects are guided by this outline and more detailed schedule on page 4: Capstone projects span  two acad emic qu arters a nd conclud e wi th a virt ual\n",
      " Showcase. The projects are guided by this outline and more detailed schedule on page 4: \n",
      "Capstone I\n",
      "Break\n",
      "Capstone II\n",
      "Capstone\n",
      " Showcase\n",
      "Project\n",
      " Timeline\n",
      "02 | 2025\n",
      "passage: .CapstoneData Science Capstone ProjectLetter GradeThe required Capstone Project is completed over two quarters and covers research design, implementation, and writing.Full-time students start their capstone project in their third quarter. Part-time students generally begin the capstone project in their fifth quarter.SeminarCareer Seminar (Required)Pass/FailThe Career Seminar (Pass/Fail) supports the development of industry professional skills, job and/or internship searches, and other in-demand areas of competency among today’s employers. Students enroll in the Career Seminar each quarter in order to engage in unique content throughout their degree program. Students with significant full-time work experience may be eligible to waive this course. 0 units, no cost.\n",
      "passage: In this course, you’ll complete a research-focused capstone project designed specifically for this joint degree. In a small group, you will collaborate with a real client on a relevant data science project across multiple sectors such as finance, entertainment, automotive, and more.\n",
      "passage: Capstone Project (1 required course)\n",
      "passage: The requiredCapstone Projectis completed over two quarters and covers research design, implementation, and writing. Full-time students start their Capstone Project in their third quarter. Part-time students generally begin the Capstone Project two quarters before their projected graduation quarter. Students choose among industry- and research-focused projects.\n",
      "passage: duties, participation expectations, and project timelines, along with responses to frequently asked questions.  Contact Alison Ossyra, aossyra@uchicago.edu, or Lauren Darga, ldarga@uchicago.edu, with any additional questions or to submit an idea for collaboration.\n",
      "For more information ...\n",
      "PRIOR TO CAPSTONE I: CALL FOR PROJECT PROPOSALS\n",
      "Proposals are reviewed and approved by the MS-ADS program team and instructors\n",
      "CAPSTONE I\n",
      "Project scope and goals defined with student team\n",
      "Data due to student team within two weeks of the start of the respective quarter\n",
      "Implementation begins\n",
      "BREAK\n",
      "Students that start Capstone I in the Spring often choose to complete an internship over the summer\n",
      "Students that start Capstone I in the Autumn will have a month break before the Winter quarter\n",
      "passage: The Master’s in Applied Data Science program accepts projects year-round for placement during the Spring and Autumn quarter, with the Spring quarter being the largest cohort. All projects must be submitted no later than one month prior to the beginning of the preferred starting quarter based on theUChicago academic calendar.Want more information? Find details and answers to FAQs in this Capstone Sponsorship Guidelines document—click hereto download the PDF.\n",
      "passage: MS in Applied Data Science\n",
      "The University of Chicago\n",
      "Capstone Project Timeline Overview\n",
      "Providing your organization’s data is a critical component of the Capstone process,\n",
      "and data confidentiality is taken very seriously. By request, students may sign a non-\n",
      "disclosure agreement (NDA) provided by your company (MS-ADS staff can offer a\n",
      "template, if needed). The NDA would be between students on the project team and\n",
      "your organization, as UChicago faculty and staff will not have access to your data.\n",
      "DATA SECURITY\n",
      "The MS-Applied Data Science program accepts project proposals year-round for placement at the\n",
      " beginning of Spring or Autumn quarters. All proposals must be submitted by mid-February (Spring) or earl\n",
      "passage: Capstone Experience\n",
      "passage: project outcomes, and data availability are the most enticing to students. \n",
      "Submitting a Problem Statement Form\n",
      "To proceed, will we need a contract with UChicago MS-ADS? \n",
      "No, the MS-ADS program does not require a legally binding agreement. We ask that you review the\n",
      " guidance shared in this document for expectations.\n",
      "What about a non-disclosure agreement? \n",
      "Students are prepared to sign a non-disclosure agreement (NDA). The NDA would be between\n",
      " students on the project team and your organization, as UChicago faculty and staff will not hav\n",
      "e access to your data. \n",
      "Is there a cost associated with being a project sponsor? \n",
      "While there is no cost owed to the MS-ADS program, we do expect that sponsors will contribute to\n",
      "passage: costs that may include mentorship time, hosting the student team for an in-person meeting, and dat\n",
      "a sharing and storage/cloud resources. Students may need access to your systems for data, and al\n",
      "so may need to have you support credits/costs within cloud platforms (e.g. AWS, Google Cloud, Azure).\n",
      "Can I submit more than one proposal? \n",
      "Yes! If your team has the capacity to mentor multiple teams at once, you are welcome to submit\n",
      " multiple proposals. \n",
      "Before We Get Started ... \n",
      "Frequently Asked Questions\n",
      "05 | 2025\n",
      "passage: . The application will also ask you to submit your resume, academic transcripts, GMAT or GRE score, essay responses, two letters of recommendation an English language assessment for non-native speaking applicants, and an application fee. We take a holistic approach during our review, meaning we consider every component of your application in our evaluation. We are hoping to see indications of a strong quantitative and technical aptitude through each of these application elements. This allows us to assess your potential for success in our program. The Booth application process goes through three rounds of admission with the first deadline usually occurring around mid-September, the second in early January, and the third and final in early April\n",
      "passage: . The goal is to provide marketers with the foundation needed to apply data analytics to real-world challenges they confront daily in their professional lives. Students will learn to identify the web analytic tool right for their specific needs; understand valid and reliable ways to collect, analyze, and visualize data from the web; and utilize data in decision making for their agencies, organizations or clients\n",
      "passage: . You do not need to submit two separate applications. Instead, you'll be asked to indicate if you are applying to a joint degree on the Booth application. You would select yes and indicate the MBA and MS in Biomedical Sciences as your program of interest. You'll then be asked to submit all required aspects of a full-time MBA application, which include a completed application, a GMAT or GRE score, education transcripts, a resume, letters of recommendation, and essays. Then you'll be asked to complete a number of supplemental questions about your interest in biomedical sciences. The application will be reviewed by both Booth and Biomedical Sciences admission staff for evaluation\n",
      "passage: Get in touch with us to submit your idea for a collaboration or ask us questions about how the partnership process works.\n",
      "passage: y September (Autumn) using the MS-Applied Data Science Problem Statement Form. The MS-Applied Data Science program accepts proj\n",
      "ect proposals year-round for placement at the beginning of Spring or Autumn quarters. All proposals must be\n",
      " submitted by mid-February (Spring) or early September (Autumn) using the MS-Applied Data Science Problem S\n",
      "tatement Form. \n",
      "In the event your proposal is submitted late and/or not matched for the upcoming quarter, you will have the option to keep the statement active for the next project start quarter. Before offering the proposal again, we will reach out to confirm that the scope of the project still aligns with your business objectives. \n",
      "Submission Process\n",
      "passage: Hear from students about their experience inCapstone Projects\n",
      "passage: As part of the I-20 or DS-2019 request process, theOffice of International Affairswill conduct a thorough review of financial documentation (e.g. bank statements, letter(s) of support, etc.) to verify that international students have access to the total cost of attendance which includes tuition, student fees, health insurance, books and supplies, and living expenses.\n",
      "passage: Request information\n",
      "passage: . It gives a rigorous methodological foundation in analytical and software tools to successfully undertake projects in Data Science. Students are exposed to concepts of exploratory analyses for uncovering and detecting patterns in multivariate data, hypothesizing and detecting relationships among variables, conducting confirmatory analyses, and building models for predictive and descriptive purposes. It will present predictive modeling in the context of balancing predictive and descriptive accuracies.CoreTime Series Analysis and ForecastingLetter GradeTime Series Analysis is a science as well as the art of making rational predictions based on previous records. It is widely used in various fields in today’s business settings.ElectiveElective 1Letter GradeElective offerings vary\n",
      "passage: . In Law courses, students will gain a legal foundation in the concepts of statutory interpretation, judicial decision-making, and legal research before expanding into an interdisciplinary exploration of how law intersects business. At Booth, students will gain a management education that is grounded in the core principles with a multidisciplinary approach to problem solving. You will evaluate problems through the fundamentals underlying business and accounting, economics, psychology, sociology, and statistics.Speaker:Now that you have a better understanding of the program itself, let's transition to talking about the JD/MBA application process, which is a little different from a traditional MBA or JD route. For both the three-year accelerated and four-year option, it is a two-step process\n",
      "passage: The program advanced my career by providing systematic learning structure, practical project experience, and inspiring discussion environment. The degree also helped me open doors to new opportunities.\n",
      "passage: Please review theHow to Applypage.\n",
      "passage: . We've also learned a great deal from each other along the way! [Founder & CEO] and I are really looki\n",
      "ng forward to continuing our work together in the Autumn and seeing where our project can go next.\n",
      "What Makes a “Good” Problem Statement? \n",
      "The exciting field of data science is constantly evolving, and students that\n",
      " enter  the  MS  in  Applied  Data  Science  program  have  a  wide  variety  o\n",
      "f interests. Projects that resonate with students can vary by quarter. That sai\n",
      "d, there are a few recommendations we can offer to make projects compell\n",
      "ing to all cohorts: \n",
      "Prepare a rich data set deliverable within two weeks of the project start\n",
      "Ensure this is a project of scale ... a team of 3-4 students will spend\n",
      " roughly 40 hours per week over 20 weeks on this project\n",
      "passage: Upcoming Events & Deadlines\n",
      "passage: Professor’s experience, Curriculum, The University ranking position\n",
      "passage: Statistics (PhD)\n",
      "\n",
      "    [QUESTION]\n",
      "    query: Can you provide information about the capstone project project?\n",
      "\n",
      "    Summarize your answers that are easy to follow. Feel free to use a combination of paragraph and bullet points for your answers\n",
      "    1. The capstone project is a required course that covers research design, implementation, and writing.\n",
      "    2. It is completed over two quarters.\n",
      "    3. Full-time students start their capstone project in their third quarter, while part-time students generally begin in their fifth quarter.\n",
      "    4. Students work in small groups and collaborate with a real client on a relevant data science project across multiple sectors such as finance, entertainment, automotive, and more.\n",
      "    5. The project outcomes are virtually presented to the Applied Data Science community in a Showcase.\n",
      "    6. Students may sign a non-disclosure agreement (NDA) to protect the data confidentiality of the project.\n",
      "    7. The capstone project is a critical component of the Master's in Applied Data Science program.\n",
      "    8. The project is guided by an outline and more detailed schedule on page 4 of the Capstone Project Timeline Overview document.\n",
      "    9. Proposals for the capstone project are reviewed and approved by the MS-ADS program team and instructors.\n",
      "    10. The capstone project is designed to provide students with practical experience in data science and help them apply their knowledge to real-world challenges.\n"
     ]
    }
   ],
   "source": [
    "if __name__ == \"__main__\":\n",
    "    main()"
   ]
  },
  {
   "cell_type": "code",
   "execution_count": null,
   "id": "a8e73409-23a5-4c16-a5ed-e76d4c83d1c5",
   "metadata": {},
   "outputs": [],
   "source": []
  }
 ],
 "metadata": {
  "environment": {
   "kernel": "conda-env-adsp-genai-py",
   "name": "workbench-notebooks.m129",
   "type": "gcloud",
   "uri": "us-docker.pkg.dev/deeplearning-platform-release/gcr.io/workbench-notebooks:m129"
  },
  "kernelspec": {
   "display_name": "Python 3 (ipykernel) (Local)",
   "language": "python",
   "name": "conda-env-adsp-genai-py"
  },
  "language_info": {
   "codemirror_mode": {
    "name": "ipython",
    "version": 3
   },
   "file_extension": ".py",
   "mimetype": "text/x-python",
   "name": "python",
   "nbconvert_exporter": "python",
   "pygments_lexer": "ipython3",
   "version": "3.11.9"
  }
 },
 "nbformat": 4,
 "nbformat_minor": 5
}
